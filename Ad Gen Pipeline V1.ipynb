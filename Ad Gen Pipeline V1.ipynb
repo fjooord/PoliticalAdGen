{
 "cells": [
  {
   "cell_type": "markdown",
   "id": "9fc51b02",
   "metadata": {},
   "source": [
    "# File for testing the initial generation pipeline for political ads"
   ]
  },
  {
   "cell_type": "code",
   "execution_count": 2,
   "id": "09bd17ff",
   "metadata": {},
   "outputs": [],
   "source": [
    "import Utils.Chat_GPT_Funcs as GPT"
   ]
  },
  {
   "cell_type": "code",
   "execution_count": 3,
   "id": "0b267527",
   "metadata": {},
   "outputs": [],
   "source": [
    "ad_length_time = 30\n",
    "ad_length_words = 75\n",
    "\n",
    "party = \"Republican\"\n",
    "position = \"Congress\"\n",
    "\n",
    "constituency = \"South Georgia\"\n",
    "\n",
    "talking_points = \"Cracking down on illegal immigration, building Trump's wall\"\n",
    "\n",
    "target_audiences = [\"Farmers and agricultural workers\",\n",
    "                    \"Small business owners and entrepreneurs\",\n",
    "                    \"Conservative-leaning voters\"]"
   ]
  },
  {
   "cell_type": "code",
   "execution_count": 4,
   "id": "b5cae3cf",
   "metadata": {},
   "outputs": [
    {
     "ename": "SyntaxError",
     "evalue": "invalid syntax (2597199892.py, line 1)",
     "output_type": "error",
     "traceback": [
      "\u001b[0;36m  Cell \u001b[0;32mIn[4], line 1\u001b[0;36m\u001b[0m\n\u001b[0;31m    Please restructure the talking points for the specified target audience.\u001b[0m\n\u001b[0m           ^\u001b[0m\n\u001b[0;31mSyntaxError\u001b[0m\u001b[0;31m:\u001b[0m invalid syntax\n"
     ]
    }
   ],
   "source": [
    "Please restructure the talking points for the specified target audience.\n",
    "\n",
    "Talking points = Cracking down on illegal immigration, building Trump's wall\n",
    "\n",
    "target audience = Farmers and agricultural workers in south Georgia, United States"
   ]
  },
  {
   "cell_type": "code",
   "execution_count": 5,
   "id": "28cf3d0c",
   "metadata": {},
   "outputs": [
    {
     "ename": "SyntaxError",
     "evalue": "invalid syntax (1327721926.py, line 1)",
     "output_type": "error",
     "traceback": [
      "\u001b[0;36m  Cell \u001b[0;32mIn[5], line 1\u001b[0;36m\u001b[0m\n\u001b[0;31m    Your name is Steve, you are a professional political media consultant, you have many years experience creating political ads for Republican candidates in the United States.\u001b[0m\n\u001b[0m         ^\u001b[0m\n\u001b[0;31mSyntaxError\u001b[0m\u001b[0;31m:\u001b[0m invalid syntax\n"
     ]
    }
   ],
   "source": [
    "Your name is Steve, you are a professional political media consultant, you have many years experience creating political ads for Republican candidates in the United States.\n",
    "\n",
    "Your task is to given the talking points for a 30 second political ad and a target audience, please restructure the talking points to resonate well with the target audience.\n",
    "\n",
    "Thank you and good luck!"
   ]
  },
  {
   "cell_type": "code",
   "execution_count": null,
   "id": "50e36194",
   "metadata": {},
   "outputs": [],
   "source": []
  }
 ],
 "metadata": {
  "kernelspec": {
   "display_name": "Python 3 (ipykernel)",
   "language": "python",
   "name": "python3"
  },
  "language_info": {
   "codemirror_mode": {
    "name": "ipython",
    "version": 3
   },
   "file_extension": ".py",
   "mimetype": "text/x-python",
   "name": "python",
   "nbconvert_exporter": "python",
   "pygments_lexer": "ipython3",
   "version": "3.9.16"
  }
 },
 "nbformat": 4,
 "nbformat_minor": 5
}
