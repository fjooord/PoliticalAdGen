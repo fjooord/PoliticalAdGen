{
 "cells": [
  {
   "cell_type": "markdown",
   "id": "2b39df90",
   "metadata": {},
   "source": [
    "# File for testing the initial generation pipeline for political ads"
   ]
  },
  {
   "cell_type": "code",
   "execution_count": 1,
   "id": "8206c9f2",
   "metadata": {},
   "outputs": [],
   "source": [
    "import Utils.Chat_GPT_Funcs as GPT"
   ]
  },
  {
   "cell_type": "markdown",
   "id": "337af9ed",
   "metadata": {},
   "source": [
    "# Specify Inputs"
   ]
  },
  {
   "cell_type": "code",
   "execution_count": 5,
   "id": "90e5f839",
   "metadata": {},
   "outputs": [],
   "source": [
    "ad_length_time = 30\n",
    "ad_length_words = 75\n",
    "\n",
    "candidate = \"Mr. Man\"\n",
    "\n",
    "party = \"Republican\"\n",
    "position = \"Congress\"\n",
    "\n",
    "constituency = \"South Georgia\"\n",
    "\n",
    "talking_points = \"Cracking down on illegal immigration, building Trump's wall\"\n",
    "\n",
    "target_audiences = [\"Farmers and agricultural workers\",\n",
    "                    \"Small business owners and entrepreneurs\",\n",
    "                    \"Conservative-leaning voters\"]"
   ]
  },
  {
   "cell_type": "markdown",
   "id": "27293350",
   "metadata": {},
   "source": [
    "# Setup and Generate the first draft of the ad"
   ]
  },
  {
   "cell_type": "code",
   "execution_count": 11,
   "id": "02250632",
   "metadata": {},
   "outputs": [
    {
     "name": "stdout",
     "output_type": "stream",
     "text": [
      "Scene 1:\n",
      "Dialogue: Friends in South Georgia, I'm Mr. Man, and I'm RUNNING for Congress - to PROTECT our farms and communities.\n",
      "Cut Scene: Mr. Man standing in front of a farm, smiling and waving at the camera.\n",
      "\n",
      "Scene 2:\n",
      "Dialogue: I'll CRACK DOWN on illegal immigration - ensuring our farmers have FAIR, LEGAL labor.\n",
      "Cut Scene: Mr. Man shaking hands with a farmer in a field.\n",
      "\n",
      "Scene 3:\n",
      "Dialogue: And I'll FIGHT for Trump's WALL - to keep our borders SECURE and our agriculture THRIVING.\n",
      "Cut Scene: Mr. Man standing near a border fence with a determined expression.\n",
      "\n",
      "Scene 4:\n",
      "Dialogue: With your VOTE, we'll grow TOGETHER, for a STRONGER South Georgia!\n",
      "Cut Scene: Mr. Man surrounded by a group of farmers and agricultural workers, all smiling and looking hopeful.\n"
     ]
    }
   ],
   "source": [
    "pol_consultant_role = GPT.open_file(\"Prompts/political_consultant_role_v1.txt\")\n",
    "\n",
    "tags = {\n",
    "    '<<CANDIDATE>>': candidate,\n",
    "    '<<POSITION>>': position,\n",
    "    '<<TALKING_POINTS>>': talking_points,\n",
    "    '<<CONSTITUENCY>>': constituency,\n",
    "    '<<TARGET_AUDIENCE>>': target_audiences[0],\n",
    "}\n",
    "\n",
    "ad = GPT.generalized_gpt_prompt(\"Prompts/ad_generation_v1.txt\", tags, role = pol_consultant_role)\n",
    "print(ad)"
   ]
  },
  {
   "cell_type": "markdown",
   "id": "c2b7df18",
   "metadata": {},
   "source": [
    "# Create the Target Personas"
   ]
  },
  {
   "cell_type": "code",
   "execution_count": 23,
   "id": "56763876",
   "metadata": {},
   "outputs": [],
   "source": [
    "# Load the persona gen role\n",
    "persona_gen_role = GPT.open_file(\"Prompts/persona_generator_v1.txt\")\n",
    "\n",
    "# Create the personas\n",
    "persona_text = GPT.generalized_gpt_prompt(\"Prompts/persona_input.txt\", tags, role = persona_gen_role)"
   ]
  },
  {
   "cell_type": "code",
   "execution_count": 25,
   "id": "7e3a728a",
   "metadata": {},
   "outputs": [
    {
     "name": "stdout",
     "output_type": "stream",
     "text": [
      "Persona 1:\n",
      "Demographics:\n",
      "    - Name: John Thompson\n",
      "    - Age: 45\n",
      "    - Gender: Male\n",
      "    - Nationality: American\n",
      "    - Occupation: Farm owner\n",
      "    - Description: John is a conservative farm owner who employs seasonal agricultural workers. He is concerned about the impact of illegal immigration on the country and the labor market.\n",
      "    - Relevant information: John relies on a mix of local and immigrant workers to manage his farm, but he is concerned about the legality of some of his workers' immigration status.\n",
      "    - Top Priorities:\n",
      "        1. Ensuring that his farm has access to legal labor.\n",
      "        2. Supporting policies that protect American jobs and control immigration.\n",
      "    - Pain points:\n",
      "        1. Difficulty finding reliable and legal seasonal workers.\n",
      "        2. Concerns about the costs and effectiveness of building the border wall.\n",
      "\n",
      "\n",
      "Persona 2:\n",
      "Demographics:\n",
      "    - Name: Mariana Sanchez\n",
      "    - Age: 34\n",
      "    - Gender: Female\n",
      "    - Nationality: Mexican-American\n",
      "    - Occupation: Agricultural worker\n",
      "    - Description: Mariana is a Mexican-American who has been working in agriculture for several years. She is a legal resident but has family members who are undocumented.\n",
      "    - Relevant information: Mariana is a legal resident who is concerned about the impact of stricter immigration policies on her family and community.\n",
      "    - Top Priorities:\n",
      "        1. Protecting the rights of immigrant workers.\n",
      "        2. Seeking a balance between controlling illegal immigration and supporting the agricultural industry.\n",
      "    - Pain points:\n",
      "        1. Fear for the well-being of her undocumented family members.\n",
      "        2. Concerns that a crackdown on illegal immigration will negatively impact the farming community.\n",
      "\n",
      "\n",
      "Persona 3:\n",
      "Demographics:\n",
      "    - Name: Sarah Johnson\n",
      "    - Age: 29\n",
      "    - Gender: Female\n",
      "    - Nationality: American\n",
      "    - Occupation: Farmer's market manager\n",
      "    - Description: Sarah is a farmer's market manager who interacts with both local and immigrant farmers on a regular basis. She is politically moderate and values the contributions of immigrants to the local economy.\n",
      "    - Relevant information: Sarah is knowledgeable about the farming industry and has connections with both local and immigrant workers.\n",
      "    - Top Priorities:\n",
      "        1. Supporting policies that benefit the local agricultural economy.\n",
      "        2. Advocating for fair and humane immigration policies.\n",
      "    - Pain points:\n",
      "        1. Concerns that crackdowns on illegal immigration may hurt the local farming industry.\n",
      "        2. Finding a balance between immigration control and supporting the local economy.\n",
      "\n",
      "\n"
     ]
    }
   ],
   "source": [
    "personas = persona_text.split('\\n\\n')\n",
    "for persona in personas:\n",
    "    print(persona)\n",
    "    print('\\n')"
   ]
  },
  {
   "cell_type": "markdown",
   "id": "5ab09e05",
   "metadata": {},
   "source": [
    "# Have each persona rate the ad"
   ]
  },
  {
   "cell_type": "code",
   "execution_count": 27,
   "id": "bbea0e27",
   "metadata": {},
   "outputs": [
    {
     "name": "stdout",
     "output_type": "stream",
     "text": [
      "Overall Rating: 6/10\n",
      "\n",
      "Message Clarity: 6/10\n",
      "The ad communicates the main message of Mr. Man running for Congress to protect farms and communities. It proposes that cracking down on illegal immigration and supporting Trump's wall will secure the borders and help the agriculture industry. However, the ad could have been clearer in explaining how these policies will directly benefit farmers and the labor market.\n",
      "\n",
      "Visual Appeal: 7/10\n",
      "The ad's visual elements are good, with Mr. Man appearing in different settings related to farming and border security. The color scheme and imagery are appropriate for the subject matter. However, it could have been more dynamic and engaging by incorporating more varied visuals or graphics.\n",
      "\n",
      "Emotional Resonance: 5/10\n",
      "The ad attempts to evoke feelings of hope and determination, particularly in the final scene with Mr. Man surrounded by farmers and agricultural workers. However, the emotional resonance is not very strong, as the ad lacks strong storytelling elements or powerful images to evoke deeper emotions.\n",
      "\n",
      "Credibility: 6/10\n",
      "The ad's credibility is somewhat limited, as it does not provide specific sources of information or statistics to support the claims made. While Mr. Man's support for Trump's wall and cracking down on illegal immigration are clear, there is no context or evidence to show why these policies would be effective or beneficial for South Georgia's farms and communities.\n",
      "\n",
      "Persuasiveness: 5/10\n",
      "The ad is only moderately persuasive, as it provides limited arguments and data to support its stance. It primarily relies on Mr. Man's promises to crack down on illegal immigration and support Trump's wall, but does not provide any compelling evidence or examples to demonstrate the effectiveness or necessity of these policies. In order to sway undecided voters or reinforce the opinions of supporters, the ad would need to offer more concrete reasons and evidence for its policy positions.\n",
      "\n",
      "Overall, the ad has some strengths in its visual appeal, but it lacks clarity in its message, emotional resonance, credibility, and persuasiveness. To improve, it should provide more specific arguments and evidence to support its policy positions, as well as create a stronger emotional connection with viewers.\n",
      "\n",
      "\n",
      "Overall Rating: 4/10\n",
      "\n",
      "Message Clarity: 4/10\n",
      "The ad does not effectively communicate its main message or goal. The overall theme is about protecting farms and communities, but there is a heavy focus on illegal immigration and the border wall. The target audience seems to be farmers and agricultural workers, but it does not address the concerns of legal residents with undocumented family members. The political issue of illegal immigration is addressed, but there is no clear connection between that and supporting the agricultural industry.\n",
      "\n",
      "Visual Appeal: 6/10\n",
      "The visual elements are decent, with appropriate imagery of farms and agricultural workers. The color schemes are simple and not distracting. However, the overall design could be more engaging and visually appealing to better capture the viewer's attention.\n",
      "\n",
      "Emotional Resonance: 3/10\n",
      "The ad does not evoke strong emotions for someone in my situation, as it does not address the fear and concern for the well-being of undocumented family members. The specific feeling generated is a sense of exclusion and increased anxiety for those in similar situations.\n",
      "\n",
      "Credibility: 4/10\n",
      "There is a lack of credible sources of information, statistics, or claims in the ad. The focus on illegal immigration and the border wall does not provide a clear connection to protecting the agricultural industry or how it would benefit legal residents with undocumented family members. The ad could be seen as misleading in this sense.\n",
      "\n",
      "Persuasiveness: 4/10\n",
      "The ad is not persuasive in making its case for someone in my situation. It does not provide compelling arguments, data, or examples to support its stance on illegal immigration and how it would benefit the agricultural industry. The focus on the border wall and cracking down on illegal immigration does not address the concerns of legal residents with undocumented family members, and it is unlikely to sway undecided voters or reinforce the opinions of supporters in this demographic.\n",
      "\n",
      "\n",
      "Overall Rating: 6/10\n",
      "\n",
      "Message Clarity: 7/10\n",
      "The ad's main message appears to be that Mr. Man is running for Congress to protect farms and communities by cracking down on illegal immigration and supporting the construction of a border wall. The message is fairly clear, but the ad could do more to explain how these policies will specifically benefit the local agricultural economy and address the concerns of both local and immigrant farmers.\n",
      "\n",
      "Visual Appeal: 6/10\n",
      "The ad features a variety of settings, including a farm, a field, and a border fence, which are visually appealing and relevant to the message. However, the color schemes and overall design are somewhat plain and could be more engaging. The scenes with Mr. Man interacting with farmers and agricultural workers are a nice touch, but they could be more dynamic to better capture the viewer's attention.\n",
      "\n",
      "Emotional Resonance: 5/10\n",
      "The ad attempts to evoke emotions of hope, determination, and unity within the South Georgian community. However, the emotional impact could be stronger if the ad provided more personal stories or testimonials from local farmers who have been affected by immigration policies or who support Mr. Man's proposals. The final scene with Mr. Man surrounded by farmers and agricultural workers is the most emotionally resonant, but it could be more powerful if it included a diverse group of people to reflect the values of inclusivity and support for both local and immigrant farmers.\n",
      "\n",
      "Credibility: 6/10\n",
      "The ad does not provide any specific sources of information, statistics, or claims to support Mr. Man's positions on illegal immigration and the border wall. While it may be generally understood that these policies are intended to protect the local agricultural economy, the ad would be more credible if it included data or examples to back up its assertions. Additionally, Mr. Man could establish more trust with viewers by demonstrating his knowledge of and experience with the farming industry.\n",
      "\n",
      "Persuasiveness: 6/10\n",
      "The ad does make a case for Mr. Man's policies, but it could be more persuasive by providing more compelling arguments, data, or examples to support its stance. The ad may sway some undecided voters who are primarily concerned about immigration control but may not be as effective in convincing those who are more focused on supporting the local economy and finding a balance between immigration control and the needs of both local and immigrant farmers.\n",
      "\n",
      "\n"
     ]
    }
   ],
   "source": [
    "ratings = []\n",
    "\n",
    "for persona in personas:\n",
    "    reviewer_role = GPT.open_file(\"Prompts/persona_rater_v1.txt\").replace('<<PERSONA>>', persona)\n",
    "    \n",
    "    ad_review_in = GPT.open_file(\"Prompts/rate_ad_input.txt\").replace('<<AD>>', ad)\n",
    "    \n",
    "    rating = GPT.chat_gpt(ad_review_in, temp=0.7, role = reviewer_role)\n",
    "    print(rating)\n",
    "    print('\\n')\n",
    "    \n",
    "    ratings.append(rating)"
   ]
  },
  {
   "cell_type": "markdown",
   "id": "369cff29",
   "metadata": {},
   "source": [
    "# Update the comercial to encorporate the feedback"
   ]
  },
  {
   "cell_type": "code",
   "execution_count": 38,
   "id": "b52226e9",
   "metadata": {},
   "outputs": [
    {
     "name": "stdout",
     "output_type": "stream",
     "text": [
      "Scene 1:\n",
      "Dialogue: South Georgia friends, I'm Mr. Man - FIGHTING for Congress to PROTECT our farms and communities.\n",
      "Cut Scene: Mr. Man standing in front of a farm, smiling and waving at the camera.\n",
      "\n",
      "Scene 2:\n",
      "Dialogue: I'll create FAIR labor policies - SUPPORTING our farmers and RESPECTING all families.\n",
      "Cut Scene: Mr. Man shaking hands with a diverse group of farmers in a field, showcasing unity.\n",
      "\n",
      "Scene 3:\n",
      "Dialogue: I'll work for SMART border security - ensuring a THRIVING agricultural economy for ALL.\n",
      "Cut Scene: Mr. Man examining farming equipment with farmers, indicating knowledge and understanding.\n",
      "\n",
      "Scene 4:\n",
      "Dialogue: With your VOTE - we'll GROW together for a STRONGER, UNITED South Georgia!\n",
      "Cut Scene: Mr. Man surrounded by a diverse group of farmers and agricultural workers, all smiling and looking hopeful.\n"
     ]
    }
   ],
   "source": [
    "# Merge the reviews together\n",
    "merged_string = \"\"\n",
    "for i, review in enumerate(ratings, start=1):\n",
    "    if i > 1:\n",
    "        merged_string += \" \"\n",
    "    merged_string += f\"\\n\\nReview {i}: \\n{review}\"\n",
    "    \n",
    "# Load the ad editor\n",
    "ad_editor_role = GPT.open_file(\"Prompts/ad_editor_v1.txt\")\n",
    "\n",
    "# Load the editor in prompt\n",
    "edit_ad_in = GPT.open_file(\"Prompts/ad_edit_in.txt\")\n",
    "edit_ad_in = edit_ad_in.replace('<<AD>>', ad)\n",
    "edit_ad_in = edit_ad_in.replace('<<FEEDBACK>>', merged_string)\n",
    "\n",
    "updated_ad = GPT.chat_gpt(edit_ad_in, temp=0.7, role=ad_editor_role)\n",
    "print(updated_ad)"
   ]
  },
  {
   "cell_type": "markdown",
   "id": "58c775c8",
   "metadata": {},
   "source": [
    "# Rerate the ad"
   ]
  },
  {
   "cell_type": "code",
   "execution_count": 39,
   "id": "ca4652ca",
   "metadata": {},
   "outputs": [
    {
     "name": "stdout",
     "output_type": "stream",
     "text": [
      "Overall Rating: 7/10\n",
      "\n",
      "Message Clarity: 7/10\n",
      "The ad does a decent job of communicating its main message, which seems to be about protecting farms, creating fair labor policies, and supporting smart border security. However, it could be more specific about the policies it intends to implement and how they relate to the target audience's concerns, such as the legality of seasonal workers and controlling immigration.\n",
      "\n",
      "Visual Appeal: 8/10\n",
      "The visual elements of the ad are appealing, with scenes of a farm, farmers, and agricultural workers. The color schemes and imagery are appropriate for the intended message and should capture the viewer's attention. However, the ad could benefit from more dynamic visuals or transitions between scenes to make it even more engaging.\n",
      "\n",
      "Emotional Resonance: 7/10\n",
      "The ad evokes emotions such as unity, hope, and optimism through its imagery and dialogue. However, it could be more effective in addressing the pain points of the target audience (difficulty finding reliable and legal seasonal workers and concerns about the border wall) to create a stronger emotional connection.\n",
      "\n",
      "Credibility: 6/10\n",
      "The ad's credibility could be improved by providing more concrete examples of Mr. Man's experience and qualifications, as well as specific policy proposals. Without this information, it's difficult to fully trust the claims made in the ad. Additionally, there are no cited sources for any statistics or claims, which further decreases credibility.\n",
      "\n",
      "Persuasiveness: 7/10\n",
      "The ad is moderately persuasive, as it showcases Mr. Man interacting with farmers and agricultural workers, and it mentions some key issues like fair labor policies and border security. However, it lacks specific policy proposals or data that would make the arguments more compelling. To increase persuasiveness, the ad should provide more concrete examples of how Mr. Man plans to address the concerns of the target audience and why his proposed solutions are the best options.\n",
      "\n",
      "\n",
      "Overall Rating: 7/10\n",
      "\n",
      "Message Clarity: 7/10\n",
      "The ad effectively communicates its main message of supporting the agricultural community and promoting fair labor policies. However, the ad could be more specific about the particular policies or plans Mr. Man is proposing. The focus on \"smart border security\" is a good starting point, but it could be clearer about how this will be achieved and how it will benefit the agricultural community.\n",
      "\n",
      "Visual Appeal: 8/10\n",
      "The ad's visual elements are appealing, with the farm backdrop and Mr. Man interacting with diverse farmers. The scenes effectively capture the viewer's attention and convey a sense of unity and collaboration. However, there could be more variety in the visuals to keep the viewer engaged.\n",
      "\n",
      "Emotional Resonance: 7/10\n",
      "The ad evokes feelings of hope and unity by showing a diverse group of farmers and agricultural workers coming together. The emotions are appropriate for the intended message, but the ad could be more impactful by sharing personal stories or experiences that demonstrate the importance of the proposed policies.\n",
      "\n",
      "Credibility: 6/10\n",
      "The ad lacks specific sources of information or statistics to support its claims. While the message is generally trustworthy, adding concrete examples or data would increase the ad's credibility. The scenes with Mr. Man engaging with farmers help establish some trustworthiness, but more evidence is needed to back up the claims made in the ad.\n",
      "\n",
      "Persuasiveness: 7/10\n",
      "The ad is somewhat persuasive, as it showcases Mr. Man's commitment to supporting the agricultural community and promoting fair labor policies. However, it could be more persuasive if it provided specific examples or data to support its claims, as well as more detail about the policies being proposed. Adding personal stories or testimonials from farmers or agricultural workers could also help to sway undecided voters and reinforce the opinions of supporters.\n",
      "\n",
      "\n",
      "Overall Rating: 7.5/10\n",
      "\n",
      "Message Clarity: 8/10\n",
      "The ad effectively communicates its main message of supporting farms and communities in South Georgia, as well as advocating for fair labor policies and smart border security. The overall theme of unity and collaboration comes across clearly, and the target audience appears to be both local and immigrant farmers. However, the political issue of immigration could be addressed more explicitly.\n",
      "\n",
      "Visual Appeal: 7/10\n",
      "The ad features relevant locations such as farms and fields, and Mr. Man is shown interacting with a diverse group of individuals. This helps to create a sense of unity and inclusiveness. However, the visual elements could be enhanced with more dynamic color schemes and more varied imagery to better capture the viewer's attention.\n",
      "\n",
      "Emotional Resonance: 7/10\n",
      "The ad evokes feelings of hope and unity, as it showcases Mr. Man working together with a diverse group of farmers and agricultural workers. However, it could do more to elicit stronger emotions by sharing personal stories or focusing on the potential positive impacts of the proposed policies on the local farming community.\n",
      "\n",
      "Credibility: 7/10\n",
      "The ad demonstrates credibility by showing Mr. Man interacting with farmers and examining farming equipment, suggesting knowledge and understanding of the industry. However, it would benefit from the inclusion of specific statistics or sources to further support the claims made in the ad. Additionally, it is essential to ensure that all information presented is accurate and not misleading.\n",
      "\n",
      "Persuasiveness: 8/10\n",
      "The ad is fairly persuasive in making its case, as it presents a clear and concise message, emphasizes unity, and showcases Mr. Man engaging with the local farming community. However, it could be more persuasive by providing more specific examples or data to support the proposed policies and their potential benefits. This could help sway undecided voters or further reinforce the opinions of supporters.\n",
      "\n",
      "\n"
     ]
    }
   ],
   "source": [
    "new_ratings = []\n",
    "\n",
    "for persona in personas:\n",
    "    reviewer_role = GPT.open_file(\"Prompts/persona_rater_v1.txt\").replace('<<PERSONA>>', persona)\n",
    "    \n",
    "    ad_review_in = GPT.open_file(\"Prompts/rate_ad_input.txt\").replace('<<AD>>', updated_ad)\n",
    "    \n",
    "    rating = GPT.chat_gpt(ad_review_in, temp=0.7, role = reviewer_role)\n",
    "    print(rating)\n",
    "    print('\\n')\n",
    "    \n",
    "    new_ratings.append(rating)"
   ]
  },
  {
   "cell_type": "code",
   "execution_count": 40,
   "id": "fb91489e",
   "metadata": {},
   "outputs": [],
   "source": [
    "class Scene:\n",
    "    def __init__(self, scene_number, dialogue=\"\", cut_scene=\"\"):\n",
    "        self._scene_number = scene_number\n",
    "        self._dialogue = dialogue\n",
    "        self._cut_scene = cut_scene\n",
    "\n",
    "    def get_scene_number(self):\n",
    "        return self._scene_number\n",
    "\n",
    "    def set_scene_number(self, scene_number):\n",
    "        self._scene_number = scene_number\n",
    "\n",
    "    def get_dialogue(self):\n",
    "        return self._dialogue\n",
    "\n",
    "    def set_dialogue(self, dialogue):\n",
    "        self._dialogue = dialogue\n",
    "\n",
    "    def get_cut_scene(self):\n",
    "        return self._cut_scene\n",
    "\n",
    "    def set_cut_scene(self, cut_scene):\n",
    "        self._cut_scene = cut_scene\n",
    "\n",
    "    def __str__(self):\n",
    "        return f\"Scene {self._scene_number}:\\nDialogue: {self._dialogue}\\nCut Scene: {self._cut_scene}\"\n"
   ]
  },
  {
   "cell_type": "code",
   "execution_count": 41,
   "id": "44f1f10c",
   "metadata": {},
   "outputs": [],
   "source": [
    "def make_scenes(scene_text):\n",
    "    scene_texts = scene_text.split('\\n\\n')\n",
    "    scenes = []\n",
    "    for i, text in enumerate(scene_texts):\n",
    "        dialogue_start_index = text.find(\"Dialogue: \")\n",
    "        cut_scene_start_index = text.find(\"Cut Scene: \")\n",
    "        if dialogue_start_index == -1 or cut_scene_start_index == -1:\n",
    "            continue\n",
    "        dialogue = text[dialogue_start_index + len(\"Dialogue: \"):cut_scene_start_index].strip()\n",
    "        cut_scene = text[cut_scene_start_index + len(\"Cut Scene: \"):].strip()\n",
    "        scene = Scene(i+1, dialogue, cut_scene)\n",
    "        scenes.append(scene)\n",
    "    return scenes\n"
   ]
  },
  {
   "cell_type": "code",
   "execution_count": 42,
   "id": "adc59084",
   "metadata": {},
   "outputs": [],
   "source": [
    "scenes = make_scenes(updated_ad)"
   ]
  },
  {
   "cell_type": "code",
   "execution_count": 43,
   "id": "8c9aa76d",
   "metadata": {},
   "outputs": [
    {
     "name": "stdout",
     "output_type": "stream",
     "text": [
      "Scene 1:\n",
      "Dialogue: South Georgia friends, I'm Mr. Man - FIGHTING for Congress to PROTECT our farms and communities.\n",
      "Cut Scene: Mr. Man standing in front of a farm, smiling and waving at the camera.\n",
      "\n",
      "Scene 2:\n",
      "Dialogue: I'll create FAIR labor policies - SUPPORTING our farmers and RESPECTING all families.\n",
      "Cut Scene: Mr. Man shaking hands with a diverse group of farmers in a field, showcasing unity.\n",
      "\n",
      "Scene 3:\n",
      "Dialogue: I'll work for SMART border security - ensuring a THRIVING agricultural economy for ALL.\n",
      "Cut Scene: Mr. Man examining farming equipment with farmers, indicating knowledge and understanding.\n",
      "\n",
      "Scene 4:\n",
      "Dialogue: With your VOTE - we'll GROW together for a STRONGER, UNITED South Georgia!\n",
      "Cut Scene: Mr. Man surrounded by a diverse group of farmers and agricultural workers, all smiling and looking hopeful.\n",
      "\n"
     ]
    }
   ],
   "source": [
    "for s in scenes:\n",
    "    print(s)\n",
    "    print()"
   ]
  },
  {
   "cell_type": "code",
   "execution_count": 45,
   "id": "c6852ecf",
   "metadata": {},
   "outputs": [],
   "source": [
    "from Utils.text_to_voice import create_voiceover"
   ]
  },
  {
   "cell_type": "code",
   "execution_count": 46,
   "id": "e9a9da4c",
   "metadata": {},
   "outputs": [
    {
     "name": "stdout",
     "output_type": "stream",
     "text": [
      "Text-to-speech conversion successful\n",
      "Text-to-speech conversion successful\n",
      "Text-to-speech conversion successful\n",
      "Text-to-speech conversion successful\n"
     ]
    }
   ],
   "source": [
    "for s in scenes:\n",
    "    create_voiceover(s.get_dialogue(), \"scene\" + str(s.get_scene_number()) +\".mp3\")"
   ]
  },
  {
   "cell_type": "code",
   "execution_count": null,
   "id": "21b438aa",
   "metadata": {},
   "outputs": [],
   "source": []
  }
 ],
 "metadata": {
  "kernelspec": {
   "display_name": "Python 3 (ipykernel)",
   "language": "python",
   "name": "python3"
  },
  "language_info": {
   "codemirror_mode": {
    "name": "ipython",
    "version": 3
   },
   "file_extension": ".py",
   "mimetype": "text/x-python",
   "name": "python",
   "nbconvert_exporter": "python",
   "pygments_lexer": "ipython3",
   "version": "3.9.16"
  }
 },
 "nbformat": 4,
 "nbformat_minor": 5
}
