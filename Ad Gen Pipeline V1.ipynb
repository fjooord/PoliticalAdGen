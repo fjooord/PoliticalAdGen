{
 "cells": [
  {
   "cell_type": "markdown",
   "id": "f00a6ada",
   "metadata": {},
   "source": [
    "# File for testing the initial generation pipeline for political ads"
   ]
  },
  {
   "cell_type": "code",
   "execution_count": 1,
   "id": "3ccaf316",
   "metadata": {},
   "outputs": [],
   "source": [
    "import Utils.Chat_GPT_Funcs as GPT"
   ]
  },
  {
   "cell_type": "markdown",
   "id": "7e86eb60",
   "metadata": {},
   "source": [
    "# Specify Inputs"
   ]
  },
  {
   "cell_type": "code",
   "execution_count": 5,
   "id": "ff976b3e",
   "metadata": {},
   "outputs": [],
   "source": [
    "ad_length_time = 30\n",
    "ad_length_words = 75\n",
    "\n",
    "candidate = \"Mr. Man\"\n",
    "\n",
    "party = \"Republican\"\n",
    "position = \"Congress\"\n",
    "\n",
    "constituency = \"South Georgia\"\n",
    "\n",
    "talking_points = \"Cracking down on illegal immigration, building Trump's wall\"\n",
    "\n",
    "target_audiences = [\"Farmers and agricultural workers\",\n",
    "                    \"Small business owners and entrepreneurs\",\n",
    "                    \"Conservative-leaning voters\"]"
   ]
  },
  {
   "cell_type": "markdown",
   "id": "8654d695",
   "metadata": {},
   "source": [
    "# Setup and Generate the first draft of the ad"
   ]
  },
  {
   "cell_type": "code",
   "execution_count": 11,
   "id": "6406d7fc",
   "metadata": {},
   "outputs": [
    {
     "name": "stdout",
     "output_type": "stream",
     "text": [
      "Scene 1:\n",
      "Dialogue: Friends in South Georgia, I'm Mr. Man, and I'm RUNNING for Congress - to PROTECT our farms and communities.\n",
      "Cut Scene: Mr. Man standing in front of a farm, smiling and waving at the camera.\n",
      "\n",
      "Scene 2:\n",
      "Dialogue: I'll CRACK DOWN on illegal immigration - ensuring our farmers have FAIR, LEGAL labor.\n",
      "Cut Scene: Mr. Man shaking hands with a farmer in a field.\n",
      "\n",
      "Scene 3:\n",
      "Dialogue: And I'll FIGHT for Trump's WALL - to keep our borders SECURE and our agriculture THRIVING.\n",
      "Cut Scene: Mr. Man standing near a border fence with a determined expression.\n",
      "\n",
      "Scene 4:\n",
      "Dialogue: With your VOTE, we'll grow TOGETHER, for a STRONGER South Georgia!\n",
      "Cut Scene: Mr. Man surrounded by a group of farmers and agricultural workers, all smiling and looking hopeful.\n"
     ]
    }
   ],
   "source": [
    "pol_consultant_role = GPT.open_file(\"Prompts/political_consultant_role_v1.txt\")\n",
    "\n",
    "tags = {\n",
    "    '<<CANDIDATE>>': candidate,\n",
    "    '<<POSITION>>': position,\n",
    "    '<<TALKING_POINTS>>': talking_points,\n",
    "    '<<CONSTITUENCY>>': constituency,\n",
    "    '<<TARGET_AUDIENCE>>': target_audiences[0],\n",
    "}\n",
    "\n",
    "ad = GPT.generalized_gpt_prompt(\"Prompts/ad_generation_v1.txt\", tags, role = pol_consultant_role)\n",
    "print(ad)"
   ]
  },
  {
   "cell_type": "markdown",
   "id": "834fa3fd",
   "metadata": {},
   "source": [
    "# Create the Target Personas"
   ]
  },
  {
   "cell_type": "code",
   "execution_count": 23,
   "id": "195deadb",
   "metadata": {},
   "outputs": [],
   "source": [
    "# Load the persona gen role\n",
    "persona_gen_role = GPT.open_file(\"Prompts/persona_generator_v1.txt\")\n",
    "\n",
    "# Create the personas\n",
    "persona_text = GPT.generalized_gpt_prompt(\"Prompts/persona_input.txt\", tags, role = persona_gen_role)"
   ]
  },
  {
   "cell_type": "code",
   "execution_count": 25,
   "id": "88a47ee9",
   "metadata": {},
   "outputs": [
    {
     "name": "stdout",
     "output_type": "stream",
     "text": [
      "Persona 1:\n",
      "Demographics:\n",
      "    - Name: John Thompson\n",
      "    - Age: 45\n",
      "    - Gender: Male\n",
      "    - Nationality: American\n",
      "    - Occupation: Farm owner\n",
      "    - Description: John is a conservative farm owner who employs seasonal agricultural workers. He is concerned about the impact of illegal immigration on the country and the labor market.\n",
      "    - Relevant information: John relies on a mix of local and immigrant workers to manage his farm, but he is concerned about the legality of some of his workers' immigration status.\n",
      "    - Top Priorities:\n",
      "        1. Ensuring that his farm has access to legal labor.\n",
      "        2. Supporting policies that protect American jobs and control immigration.\n",
      "    - Pain points:\n",
      "        1. Difficulty finding reliable and legal seasonal workers.\n",
      "        2. Concerns about the costs and effectiveness of building the border wall.\n",
      "\n",
      "\n",
      "Persona 2:\n",
      "Demographics:\n",
      "    - Name: Mariana Sanchez\n",
      "    - Age: 34\n",
      "    - Gender: Female\n",
      "    - Nationality: Mexican-American\n",
      "    - Occupation: Agricultural worker\n",
      "    - Description: Mariana is a Mexican-American who has been working in agriculture for several years. She is a legal resident but has family members who are undocumented.\n",
      "    - Relevant information: Mariana is a legal resident who is concerned about the impact of stricter immigration policies on her family and community.\n",
      "    - Top Priorities:\n",
      "        1. Protecting the rights of immigrant workers.\n",
      "        2. Seeking a balance between controlling illegal immigration and supporting the agricultural industry.\n",
      "    - Pain points:\n",
      "        1. Fear for the well-being of her undocumented family members.\n",
      "        2. Concerns that a crackdown on illegal immigration will negatively impact the farming community.\n",
      "\n",
      "\n",
      "Persona 3:\n",
      "Demographics:\n",
      "    - Name: Sarah Johnson\n",
      "    - Age: 29\n",
      "    - Gender: Female\n",
      "    - Nationality: American\n",
      "    - Occupation: Farmer's market manager\n",
      "    - Description: Sarah is a farmer's market manager who interacts with both local and immigrant farmers on a regular basis. She is politically moderate and values the contributions of immigrants to the local economy.\n",
      "    - Relevant information: Sarah is knowledgeable about the farming industry and has connections with both local and immigrant workers.\n",
      "    - Top Priorities:\n",
      "        1. Supporting policies that benefit the local agricultural economy.\n",
      "        2. Advocating for fair and humane immigration policies.\n",
      "    - Pain points:\n",
      "        1. Concerns that crackdowns on illegal immigration may hurt the local farming industry.\n",
      "        2. Finding a balance between immigration control and supporting the local economy.\n",
      "\n",
      "\n"
     ]
    }
   ],
   "source": [
    "personas = persona_text.split('\\n\\n')\n",
    "for persona in personas:\n",
    "    print(persona)\n",
    "    print('\\n')"
   ]
  },
  {
   "cell_type": "markdown",
   "id": "239b0b35",
   "metadata": {},
   "source": [
    "# Have each persona rate the ad"
   ]
  },
  {
   "cell_type": "code",
   "execution_count": null,
   "id": "3a8861d2",
   "metadata": {},
   "outputs": [],
   "source": [
    "ratings = []\n",
    "\n",
    "for persona in personas:\n",
    "    reviewer_role = GPT.open_file(\"Prompts/persona_rater_v1.txt\").replace('<<PERSONA>>', persona)\n",
    "    \n",
    "    ad_review_in = GPT.open_file(\"Prompts/rate_ad_input.txt\").replace('<<AD>>', ad)\n",
    "    print('\\n')\n",
    "    break"
   ]
  },
  {
   "cell_type": "code",
   "execution_count": 3,
   "id": "8f4eee1e",
   "metadata": {},
   "outputs": [],
   "source": [
    "test_in = \"Please restructure the talking points for the specified target audience. \\n  Talking points = Cracking down on illegal immigration, building Trump's wall  \\n target audience = Farmers and agricultural workers in south Georgia, United States\""
   ]
  },
  {
   "cell_type": "code",
   "execution_count": 19,
   "id": "8ba58ed9",
   "metadata": {},
   "outputs": [],
   "source": [
    "personas = persona_text.split(\"Persona\")[1:]\n",
    "personas = {f\"Persona {i}\": persona.strip() for i, persona in enumerate(personas, start=1)}\n",
    "\n",
    "for persona_name, persona_text in personas.items():\n",
    "    print(persona_name)\n",
    "    print(persona_text)\n",
    "    print(\"\\n\")"
   ]
  },
  {
   "cell_type": "code",
   "execution_count": 4,
   "id": "71a2afbb",
   "metadata": {},
   "outputs": [],
   "source": [
    "pol_consultant_role = GPT.open_file(\"Prompts/political_consultant_role_v1.txt\")"
   ]
  },
  {
   "cell_type": "code",
   "execution_count": 7,
   "id": "7eecbe5f",
   "metadata": {},
   "outputs": [],
   "source": [
    "ad = GPT.chat_gpt(test_in, temp = 0.7, role = pol_consultant_role)"
   ]
  },
  {
   "cell_type": "code",
   "execution_count": 18,
   "id": "c85935e5",
   "metadata": {},
   "outputs": [
    {
     "name": "stdout",
     "output_type": "stream",
     "text": [
      "Scene 1:\n",
      "Dialogue: \"Illegal immigration affects us all, but here in South Georgia, we feel it the most.\"\n",
      "Cut Scene: Aerial shot of vast farmland in South Georgia.\n",
      "\n",
      "Scene 2:\n",
      "Dialogue: \"Our farms and communities are at risk, and we need strong action to protect them.\"\n",
      "Cut Scene: Farmer working in the field, followed by a family having dinner at a table.\n",
      "\n",
      "Scene 3:\n",
      "Dialogue: \"That's why we're cracking down on illegal immigration and building Trump's wall.\"\n",
      "Cut Scene: Construction workers building the wall, with US flags waving in the background.\n",
      "\n",
      "Scene 4:\n",
      "Dialogue: \"Let's stand together to ensure a secure and prosperous future for our families and farms.\"\n",
      "Cut Scene: A group of farmers and agricultural workers shaking hands and embracing.\n",
      "\n",
      "Scene 5:\n",
      "Dialogue: \"Support the wall, support our farmers, and support South Georgia.\"\n",
      "Cut Scene: A proud farmer standing tall, with the sun setting behind him.\n"
     ]
    }
   ],
   "source": [
    "print(ad)"
   ]
  },
  {
   "cell_type": "code",
   "execution_count": 23,
   "id": "8fa35b5a",
   "metadata": {},
   "outputs": [],
   "source": [
    "class Scene:\n",
    "    def __init__(self, scene_number, dialogue=\"\", cut_scene=\"\"):\n",
    "        self._scene_number = scene_number\n",
    "        self._dialogue = dialogue\n",
    "        self._cut_scene = cut_scene\n",
    "\n",
    "    def get_scene_number(self):\n",
    "        return self._scene_number\n",
    "\n",
    "    def set_scene_number(self, scene_number):\n",
    "        self._scene_number = scene_number\n",
    "\n",
    "    def get_dialogue(self):\n",
    "        return self._dialogue\n",
    "\n",
    "    def set_dialogue(self, dialogue):\n",
    "        self._dialogue = dialogue\n",
    "\n",
    "    def get_cut_scene(self):\n",
    "        return self._cut_scene\n",
    "\n",
    "    def set_cut_scene(self, cut_scene):\n",
    "        self._cut_scene = cut_scene\n",
    "\n",
    "    def __str__(self):\n",
    "        return f\"Scene {self._scene_number}:\\nDialogue: {self._dialogue}\\nCut Scene: {self._cut_scene}\"\n"
   ]
  },
  {
   "cell_type": "code",
   "execution_count": 27,
   "id": "219d4b45",
   "metadata": {},
   "outputs": [],
   "source": [
    "def make_scenes(scene_text):\n",
    "    scene_texts = scene_text.split('\\n\\n')\n",
    "    scenes = []\n",
    "    for i, text in enumerate(scene_texts):\n",
    "        dialogue_start_index = text.find(\"Dialogue: \")\n",
    "        cut_scene_start_index = text.find(\"Cut Scene: \")\n",
    "        if dialogue_start_index == -1 or cut_scene_start_index == -1:\n",
    "            continue\n",
    "        dialogue = text[dialogue_start_index + len(\"Dialogue: \"):cut_scene_start_index].strip()\n",
    "        cut_scene = text[cut_scene_start_index + len(\"Cut Scene: \"):].strip()\n",
    "        scene = Scene(i+1, dialogue, cut_scene)\n",
    "        scenes.append(scene)\n",
    "    return scenes\n"
   ]
  },
  {
   "cell_type": "code",
   "execution_count": 28,
   "id": "3b3dcef1",
   "metadata": {},
   "outputs": [],
   "source": [
    "scenes = make_scenes(ad)"
   ]
  },
  {
   "cell_type": "code",
   "execution_count": 29,
   "id": "364c5a82",
   "metadata": {},
   "outputs": [
    {
     "name": "stdout",
     "output_type": "stream",
     "text": [
      "Scene 1:\n",
      "Dialogue: \"Illegal immigration affects us all, but here in South Georgia, we feel it the most.\"\n",
      "Cut Scene: Aerial shot of vast farmland in South Georgia.\n",
      "\n",
      "Scene 2:\n",
      "Dialogue: \"Our farms and communities are at risk, and we need strong action to protect them.\"\n",
      "Cut Scene: Farmer working in the field, followed by a family having dinner at a table.\n",
      "\n",
      "Scene 3:\n",
      "Dialogue: \"That's why we're cracking down on illegal immigration and building Trump's wall.\"\n",
      "Cut Scene: Construction workers building the wall, with US flags waving in the background.\n",
      "\n",
      "Scene 4:\n",
      "Dialogue: \"Let's stand together to ensure a secure and prosperous future for our families and farms.\"\n",
      "Cut Scene: A group of farmers and agricultural workers shaking hands and embracing.\n",
      "\n",
      "Scene 5:\n",
      "Dialogue: \"Support the wall, support our farmers, and support South Georgia.\"\n",
      "Cut Scene: A proud farmer standing tall, with the sun setting behind him.\n",
      "\n"
     ]
    }
   ],
   "source": [
    "for s in scenes:\n",
    "    print(s)\n",
    "    print()"
   ]
  },
  {
   "cell_type": "code",
   "execution_count": null,
   "id": "09c76427",
   "metadata": {},
   "outputs": [],
   "source": []
  }
 ],
 "metadata": {
  "kernelspec": {
   "display_name": "Python 3 (ipykernel)",
   "language": "python",
   "name": "python3"
  },
  "language_info": {
   "codemirror_mode": {
    "name": "ipython",
    "version": 3
   },
   "file_extension": ".py",
   "mimetype": "text/x-python",
   "name": "python",
   "nbconvert_exporter": "python",
   "pygments_lexer": "ipython3",
   "version": "3.9.16"
  }
 },
 "nbformat": 4,
 "nbformat_minor": 5
}
