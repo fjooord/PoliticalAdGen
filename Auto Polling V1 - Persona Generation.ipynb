{
 "cells": [
  {
   "cell_type": "markdown",
   "id": "65e20385",
   "metadata": {},
   "source": [
    "# Auto Polling\n",
    "    - This notebook will serve the following pipeline\n",
    "    - Ingest a demographic data, like the census of an area\n",
    "        - Create groups that will in total represent the population\n",
    "            - IE 100/1000 white women ages 20-30\n",
    "        - Turn the groups into personas\n",
    "            - For each group, use chat gpt to make that many personas of people\n",
    "            - Save personas for later use\n",
    "    - Create a survey based on the political landscape of the area\n",
    "        - Feed in the data and make survey\n",
    "        - Could make multiple surveys and have them be specific to the demographic\n",
    "    - Give survey to the personas\n",
    "        - For each persona, have them take the survey, save results\n",
    "    - Process results to determine the most important issues to make ads for\n",
    "        "
   ]
  },
  {
   "cell_type": "code",
   "execution_count": 7,
   "id": "8f276369",
   "metadata": {},
   "outputs": [],
   "source": [
    "import Utils.Chat_GPT_Funcs as GPT\n",
    "import concurrent.futures\n",
    "import os\n",
    "import string"
   ]
  },
  {
   "cell_type": "code",
   "execution_count": 8,
   "id": "8f3935f5",
   "metadata": {},
   "outputs": [
    {
     "name": "stdout",
     "output_type": "stream",
     "text": [
      "72\n"
     ]
    }
   ],
   "source": [
    "alphabet_uppercase = list(string.ascii_uppercase)\n",
    "\n",
    "male_name_starts = ['Al', 'An', 'Be', 'Br', 'Ch', 'Da', 'De', 'Ed', 'Fr', 'Ge', 'Ha', 'Ja', 'Jo', 'Ke', 'Le', 'Ma', 'Mi', 'Ni', 'Pa', 'Ra', 'Ro', 'Sa', 'St', 'Th', 'To', 'Wi', 'Ba', 'Ca', 'Di', 'El', 'Gr', 'He', 'Ir', 'Je', 'Kr', 'Lu', 'Mo', 'Ne', 'Os', 'Ph', 'Qu', 'Ri', 'Se', 'Te', 'Va', 'Ze']\n",
    "female_name_starts = ['Ab', 'Al', 'Am', 'An', 'Be', 'Br', 'Ca', 'Ce', 'Ch', 'Cl', 'De', 'Di', 'El', 'Em', 'Es', 'Ev', 'Fl', 'Fr', 'Ge', 'Gr', 'Ha', 'He', 'Ir', 'Is', 'Ja', 'Je', 'Jo', 'Ju', 'Ka', 'Ke', 'La', 'Li', 'Ma', 'Me', 'Mi', 'Na', 'Ni', 'Ol', 'Pa', 'Pr', 'Ra', 'Re', 'Sa', 'Si', 'Ta', 'Vi']\n",
    "\n",
    "male_names = alphabet_uppercase + male_name_starts\n",
    "female_names = alphabet_uppercase + female_name_starts\n",
    "\n",
    "print(len(female_names))"
   ]
  },
  {
   "cell_type": "code",
   "execution_count": 9,
   "id": "9f335319",
   "metadata": {},
   "outputs": [],
   "source": [
    "test = [\n",
    "  {\n",
    "    \"group_size\": 294,\n",
    "    \"age\": \"18-64\",\n",
    "    \"gender\": \"Female\",\n",
    "    \"ethnicity\": \"White\",\n",
    "    \"income_levels\": \"$20,000 - $50,000\",\n",
    "    \"employment_status\": \"In civilian labor force (62.9%)\",\n",
    "    \"marital_status\": \"Not specified\",\n",
    "    \"education_level\": \"High school graduate or higher (94.4%)\"\n",
    "  },\n",
    "  {\n",
    "    \"group_size\": 146,\n",
    "    \"age\": \"65 and over\",\n",
    "    \"gender\": \"Female\",\n",
    "    \"ethnicity\": \"White\",\n",
    "    \"income_levels\": \"$20,000 - $50,000\",\n",
    "    \"employment_status\": \"Not in civilian labor force\",\n",
    "    \"marital_status\": \"Not specified\",\n",
    "    \"education_level\": \"High school graduate or higher (94.4%)\"\n",
    "  },\n",
    "  {\n",
    "    \"group_size\": 294,\n",
    "    \"age\": \"18-64\",\n",
    "    \"gender\": \"Male\",\n",
    "    \"ethnicity\": \"White\",\n",
    "    \"income_levels\": \"$20,000 - $50,000\",\n",
    "    \"employment_status\": \"In civilian labor force (62.9%)\",\n",
    "    \"marital_status\": \"Not specified\",\n",
    "    \"education_level\": \"High school graduate or higher (94.4%)\"\n",
    "  },\n",
    "  {\n",
    "    \"group_size\": 146,\n",
    "    \"age\": \"65 and over\",\n",
    "    \"gender\": \"Male\",\n",
    "    \"ethnicity\": \"White\",\n",
    "    \"income_levels\": \"$20,000 - $50,000\",\n",
    "    \"employment_status\": \"Not in civilian labor force\",\n",
    "    \"marital_status\": \"Not specified\",\n",
    "    \"education_level\": \"High school graduate or higher (94.4%)\"\n",
    "  },\n",
    "  {\n",
    "    \"group_size\": 20,\n",
    "    \"age\": \"18 and over\",\n",
    "    \"gender\": \"Not specified\",\n",
    "    \"ethnicity\": \"Black or African American\",\n",
    "    \"income_levels\": \"$20,000 - $50,000\",\n",
    "    \"employment_status\": \"Not specified\",\n",
    "    \"marital_status\": \"Not specified\",\n",
    "    \"education_level\": \"High school graduate or higher (94.4%)\"\n",
    "  },\n",
    "  {\n",
    "    \"group_size\": 66,\n",
    "    \"age\": \"18 and over\",\n",
    "    \"gender\": \"Not specified\",\n",
    "    \"ethnicity\": \"American Indian and Alaska Native\",\n",
    "    \"income_levels\": \"$20,000 - $50,000\",\n",
    "    \"employment_status\": \"Not specified\",\n",
    "    \"marital_status\": \"Not specified\",\n",
    "    \"education_level\": \"High school graduate or higher (94.4%)\"\n",
    "  },\n",
    "  {\n",
    "    \"group_size\": 10,\n",
    "    \"age\": \"18 and over\",\n",
    "    \"gender\": \"Not specified\",\n",
    "    \"ethnicity\": \"Asian\",\n",
    "    \"income_levels\": \"$20,000 - $50,000\",\n",
    "    \"employment_status\": \"Not specified\",\n",
    "    \"marital_status\": \"Not specified\",\n",
    "    \"education_level\": \"High school graduate or higher (94.4%)\"\n",
    "  },\n",
    "  {\n",
    "    \"group_size\": 1,\n",
    "    \"age\": \"18 and over\",\n",
    "    \"gender\": \"Not specified\",\n",
    "    \"ethnicity\": \"Native Hawaiian and Other Pacific Islander\",\n",
    "    \"income_levels\": \"$20,000 - $50,000\",\n",
    "    \"employment_status\": \"Not specified\",\n",
    "    \"marital_status\": \"Not specified\",\n",
    "    \"education_level\": \"High school graduate or higher (94.4%)\"\n",
    "  },\n",
    "  {\n",
    "    \"group_size\": 30,\n",
    "    \"age\": \"18 and over\",\n",
    "    \"gender\": \"Not specified\",\n",
    "    \"ethnicity\": \"Two or More Races\",\n",
    "    \"income_levels\": \"$20,000 - $50,000\",\n",
    "    \"employment_status\": \"Not specified\",\n",
    "    \"marital_status\": \"Not specified\",\n",
    "    \"education_level\": \"High school graduate or higher (94.4%)\"\n",
    "  },\n",
    "  {\n",
    "    \"group_size\": 43,\n",
    "    \"age\": \"18 and over\",\n",
    "    \"gender\": \"Not specified\",\n",
    "    \"ethnicity\": \"Hispanic or Latino\",\n",
    "    \"income_levels\": \"$20,000 - $50,000\",\n",
    "    \"employment_status\": \"Not specified\",\n",
    "    \"marital_status\": \"Not specified\",\n",
    "    \"education_level\": \"High school graduate or higher (94.4%)\"\n",
    "  }\n",
    "]\n"
   ]
  },
  {
   "cell_type": "code",
   "execution_count": 10,
   "id": "fc737628",
   "metadata": {},
   "outputs": [],
   "source": [
    "test = [\n",
    "    {\n",
    "    \"group_size\": 146,\n",
    "    \"age\": \"65 and over\",\n",
    "    \"gender\": \"Male\",\n",
    "    \"ethnicity\": \"White\",\n",
    "    \"income_levels\": \"$20,000 - $50,000\",\n",
    "    \"employment_status\": \"Not in civilian labor force\",\n",
    "    \"marital_status\": \"Not specified\",\n",
    "    \"education_level\": \"High school graduate or higher (94.4%)\"\n",
    "  }\n",
    "]"
   ]
  },
  {
   "cell_type": "code",
   "execution_count": 11,
   "id": "346d525d",
   "metadata": {},
   "outputs": [],
   "source": [
    "def create_directory_if_not_exists(file_path):\n",
    "    directory = os.path.dirname(file_path)\n",
    "    if not os.path.exists(directory):\n",
    "        os.makedirs(directory)"
   ]
  },
  {
   "cell_type": "code",
   "execution_count": 12,
   "id": "26b9e6b8",
   "metadata": {},
   "outputs": [],
   "source": [
    "def generate_and_save_persona(i, group_count):\n",
    "  \n",
    "    persona_gen_role = GPT.open_file(\"Prompts/persona_gen_groups_v1.txt\")\n",
    "    \n",
    "    if group_count < 2:\n",
    "        name_rep = female_names[i%len(female_names)]\n",
    "    else:\n",
    "        name_rep = male_names[i%len(male_names)]\n",
    "        \n",
    "    tags = {\n",
    "        '<<BATCH>>': str(batch_size),\n",
    "        '<<GROUP>>': str(original_dict),\n",
    "        '<<START>>': name_rep,\n",
    "        '<<NUM>>': str(i),\n",
    "    }\n",
    "\n",
    "    persona_text = GPT.generalized_gpt_prompt(\"Prompts/gen_by_group.txt\", tags, tokens = 1500, engine='gpt-3.5-turbo', temp=0.25, role=persona_gen_role)\n",
    "    \n",
    "    parent_path = f\"Groups_v2/Group_{group_count}/\"\n",
    "    create_directory_if_not_exists(parent_path)\n",
    "    \n",
    "    file_path = parent_path + f\"group_{group_count}_batch_{i}.txt\"\n",
    "    print(\"Saving:\", file_path)\n",
    "    GPT.save_file(file_path, persona_text)"
   ]
  },
  {
   "cell_type": "code",
   "execution_count": 13,
   "id": "f894b0fc",
   "metadata": {},
   "outputs": [
    {
     "data": {
      "text/plain": [
       "1"
      ]
     },
     "execution_count": 13,
     "metadata": {},
     "output_type": "execute_result"
    }
   ],
   "source": [
    "len(test)"
   ]
  },
  {
   "cell_type": "code",
   "execution_count": null,
   "id": "b1cc5b9d",
   "metadata": {},
   "outputs": [
    {
     "name": "stdout",
     "output_type": "stream",
     "text": [
      "Starting Group: 3\n",
      "Starting batch: 0\n",
      "Starting batch: 1\n",
      "Starting batch: 2\n",
      "Starting batch: 3\n",
      "Starting batch: 4\n",
      "Starting batch: 5\n",
      "Starting batch: 6\n",
      "Starting batch: 7\n",
      "Starting batch: 8\n",
      "Starting batch: 9\n",
      "Starting batch: 10\n",
      "Starting batch: 11\n",
      "Starting batch: 12\n",
      "Starting batch: 13\n",
      "Starting batch: 14\n",
      "Starting batch: 15\n",
      "Starting batch: 16\n",
      "Starting batch: 17\n",
      "Starting batch: 18\n",
      "Starting batch: 19\n",
      "Starting batch: 20\n",
      "Starting batch: 21\n",
      "Starting batch: 22\n",
      "Starting batch: 23\n",
      "Starting batch: 24\n",
      "Starting batch: 25\n",
      "Starting batch: 26\n",
      "Starting batch: 27\n",
      "Starting batch: 28\n",
      "Starting batch: 29\n",
      "Saving: Groups_v2/Group_3/group_3_batch_2.txt\n",
      "Saving: Groups_v2/Group_3/group_3_batch_1.txt\n",
      "Saving: Groups_v2/Group_3/group_3_batch_3.txt\n",
      "Saving: Groups_v2/Group_3/group_3_batch_0.txt\n",
      "Saving: Groups_v2/Group_3/group_3_batch_4.txt\n",
      "Saving: Groups_v2/Group_3/group_3_batch_9.txt\n",
      "Saving: Groups_v2/Group_3/group_3_batch_6.txt\n",
      "Saving: Groups_v2/Group_3/group_3_batch_5.txt\n",
      "Saving: Groups_v2/Group_3/group_3_batch_7.txt\n",
      "Saving: Groups_v2/Group_3/group_3_batch_8.txt\n"
     ]
    }
   ],
   "source": [
    "group_count = 3\n",
    "for original_dict in test:\n",
    "    \n",
    "    print(\"Starting Group:\", group_count)\n",
    "    group_size = original_dict['group_size']\n",
    "\n",
    "    # Remove the 'group_size' key from the new dictionary\n",
    "    del original_dict['group_size']\n",
    "    original_dict['place_of_residence'] = 'Montana, United States'\n",
    "\n",
    "    import concurrent.futures\n",
    "\n",
    "    batch_size = 5\n",
    "    max_workers = 5\n",
    "\n",
    "    # Calculate the number of full batches\n",
    "    full_batches = group_size // batch_size\n",
    "\n",
    "    # Calculate the number of remaining objects\n",
    "    remaining_objects = group_size % batch_size\n",
    "\n",
    "    personas = []\n",
    "\n",
    "    # Create a ThreadPoolExecutor with max_workers\n",
    "    with concurrent.futures.ThreadPoolExecutor(max_workers=max_workers) as executor:\n",
    "        # Create full batches of objects\n",
    "        for i in range(full_batches):\n",
    "            executor.submit(generate_and_save_persona, i, group_count)\n",
    "            print(\"Starting batch:\", str(i))\n",
    "        # Create remaining objects\n",
    "        if remaining_objects > 0:\n",
    "            executor.submit(generate_and_save_persona, full_batches, group_count)\n",
    "            print(\"Starting batch:\", str(full_batches))\n",
    "    \n",
    "    group_count += 1\n",
    "    print()\n",
    "    print()\n"
   ]
  },
  {
   "cell_type": "code",
   "execution_count": 22,
   "id": "6eb47c79",
   "metadata": {},
   "outputs": [],
   "source": [
    "def dict_to_paragraph(persona, residence):\n",
    "    priorities = ', '.join(persona[\"Top Priorities\"])\n",
    "    try:\n",
    "        pain_points = ', '.join(persona[\"Pain points\"])\n",
    "    except:\n",
    "        pain_points = ', '.join(persona[\"Pain Points\"])\n",
    "    \n",
    "    return (f\"Your name is {persona['Name']}, you are a {persona['Age']} year old {persona['Ethnicity']} {persona['Gender']}. \"\n",
    "            f\"You live in {residence} and your annual income is ${persona['Income']}. \"\n",
    "            f\"Your marital status is {persona['Marital Status']}, and your highest level of education is {persona['Education Level']}. \"\n",
    "            f\"You work as a {persona['Occupation']}. You are described as '{persona['Description']}'. \"\n",
    "            f\"Your top priorities are {priorities}. You are facing some challenges, including {pain_points}.\")\n"
   ]
  },
  {
   "cell_type": "code",
   "execution_count": 38,
   "id": "cecbde3f",
   "metadata": {},
   "outputs": [],
   "source": [
    "# import os\n",
    "# import glob\n",
    "\n",
    "# parent_path = \"Groups/\"\n",
    "# # Define the directories to go through\n",
    "# directories = ['Groups/Group_1', 'Groups/Group_2', 'Groups/Group_3', 'Groups/Group_4']\n",
    "\n",
    "# # Define the string to find and the string to replace it with\n",
    "# find_string = '\"Nationality\": \"American\",'\n",
    "# find_string1 = '\"Nationality\": \"White\",'\n",
    "# replace_string = '\"Ethnicity\": \"White\",'\n",
    "\n",
    "# # For each directory\n",
    "# for directory in directories:\n",
    "#     # Use a wildcard (*) to find all .txt files in the directory\n",
    "#     for file_name in glob.glob(directory + '/*.txt'):\n",
    "#         print(file_name)\n",
    "#         # Open each file in read mode to get the data\n",
    "#         file_data = GPT.open_file(file_name)\n",
    "        \n",
    "#         # Replace the find_string with replace_string\n",
    "#         file_data = file_data.replace(find_string, replace_string)\n",
    "#         file_data = file_data.replace(find_string1, replace_string)\n",
    "        \n",
    "#         #print(new_data)\n",
    "        \n",
    "#         # Open the file in write mode to overwrite the original data with the new data\n",
    "#         GPT.save_file(file_name, file_data)\n",
    "\n",
    "# print(\"Replacement complete.\")\n",
    "\n"
   ]
  },
  {
   "cell_type": "code",
   "execution_count": 23,
   "id": "cdd80a7e",
   "metadata": {},
   "outputs": [
    {
     "name": "stdout",
     "output_type": "stream",
     "text": [
      "Num Personas in Group 0: 295\n",
      "\n",
      "Num Personas in Group 1: 150\n",
      "\n",
      "Num Personas in Group 2: 295\n",
      "\n",
      "Num Personas in Group 3: 0\n",
      "\n",
      "Num Personas in Group 4: 145\n",
      "\n",
      "Num Personas in Group 5: 20\n",
      "\n",
      "Num Personas in Group 6: 70\n",
      "\n",
      "Num Personas in Group 7: 10\n",
      "\n",
      "Num Personas in Group 8: 5\n",
      "\n",
      "Num Personas in Group 9: 30\n",
      "\n",
      "Num Personas in Group 10: 45\n",
      "\n"
     ]
    }
   ],
   "source": [
    "import os\n",
    "import glob\n",
    "import json\n",
    "parent_path = \"Groups/\"\n",
    "# Define the directories to go through\n",
    "directories = ['Groups/Group_1', 'Groups/Group_2', 'Groups/Group_3', 'Groups/Group_4']\n",
    "\n",
    "personas = []\n",
    "for i in range(0,11):\n",
    "    group_p = []\n",
    "    # For each directory\n",
    "    # for directory in directories:\n",
    "\n",
    "    directory = f'Groups/Group_{i}'\n",
    "    # Use a wildcard (*) to find all .txt files in the directory\n",
    "    for file_name in glob.glob(directory + '/*.txt'):\n",
    "        # Open each file in read mode to get the data\n",
    "        file_data = GPT.open_file(file_name)\n",
    "\n",
    "        for data in json.loads(file_data):\n",
    "#         for key, value in data.items():\n",
    "#             print(f\"{key}: {value}\")\n",
    "            personas.append(dict_to_paragraph(data, 'Montana, United States'))\n",
    "            group_p.append(dict_to_paragraph(data, 'Montana, United States'))\n",
    "    print(f\"Num Personas in Group {i}:\", len(group_p))\n",
    "\n",
    "\n",
    "\n"
   ]
  },
  {
   "cell_type": "code",
   "execution_count": 24,
   "id": "38374ce6",
   "metadata": {},
   "outputs": [
    {
     "data": {
      "text/plain": [
       "1065"
      ]
     },
     "execution_count": 24,
     "metadata": {},
     "output_type": "execute_result"
    }
   ],
   "source": [
    "len(personas)"
   ]
  },
  {
   "cell_type": "code",
   "execution_count": 25,
   "id": "83327fb0",
   "metadata": {},
   "outputs": [
    {
     "data": {
      "text/plain": [
       "\"Your name is Nancy Nichols, you are a 32 year old White Female. You live in Montana, United States and your annual income is $35000. Your marital status is Single, and your highest level of education is High school graduate. You work as a Retail Sales Associate. You are described as 'Nancy is a friendly and outgoing individual who enjoys working with people. She is passionate about helping customers find the perfect items and providing excellent customer service.'. Your top priorities are Affordable healthcare, Job security, Environmental protection. You are facing some challenges, including Limited job opportunities in her area, Rising cost of living, Lack of affordable healthcare options.\""
      ]
     },
     "execution_count": 25,
     "metadata": {},
     "output_type": "execute_result"
    }
   ],
   "source": [
    "personas[0]"
   ]
  },
  {
   "cell_type": "code",
   "execution_count": null,
   "id": "6fd80ca1",
   "metadata": {},
   "outputs": [],
   "source": []
  }
 ],
 "metadata": {
  "kernelspec": {
   "display_name": "Python 3 (ipykernel)",
   "language": "python",
   "name": "python3"
  },
  "language_info": {
   "codemirror_mode": {
    "name": "ipython",
    "version": 3
   },
   "file_extension": ".py",
   "mimetype": "text/x-python",
   "name": "python",
   "nbconvert_exporter": "python",
   "pygments_lexer": "ipython3",
   "version": "3.9.16"
  }
 },
 "nbformat": 4,
 "nbformat_minor": 5
}
