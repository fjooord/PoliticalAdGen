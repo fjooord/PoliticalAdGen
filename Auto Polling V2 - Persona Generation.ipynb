{
 "cells": [
  {
   "cell_type": "markdown",
   "id": "65e20385",
   "metadata": {},
   "source": [
    "# Auto Polling\n",
    "    - The original persona generation worked, but the personas were too generic and didnt give a model context to \n",
    "        make accurate predictions of the beliefs of a person\n",
    "    - Now making a new pipeline that will create personas in different stages to \n",
    "        "
   ]
  },
  {
   "cell_type": "code",
   "execution_count": 1,
   "id": "8f276369",
   "metadata": {},
   "outputs": [],
   "source": [
    "import Utils.Chat_GPT_Funcs as GPT\n",
    "import concurrent.futures\n",
    "import os\n",
    "import string\n",
    "import random\n",
    "import numpy as np\n",
    "import pickle"
   ]
  },
  {
   "cell_type": "code",
   "execution_count": 2,
   "id": "346d525d",
   "metadata": {},
   "outputs": [],
   "source": [
    "def create_directory_if_not_exists(file_path):\n",
    "    directory = os.path.dirname(file_path)\n",
    "    if not os.path.exists(directory):\n",
    "        os.makedirs(directory)"
   ]
  },
  {
   "cell_type": "markdown",
   "id": "c59e0b5a",
   "metadata": {},
   "source": [
    "# Load First and Last Names"
   ]
  },
  {
   "cell_type": "code",
   "execution_count": 3,
   "id": "af9c8b2d",
   "metadata": {},
   "outputs": [],
   "source": [
    "eths = [\"White\", \"American Indian or Alaska Native\", \"Black or African American\", \"Asian\", \"Hispanic or Latino\"]\n",
    "genders = ['Men', 'Women']\n",
    "\n",
    "dems = []\n",
    "for e in eths:\n",
    "    for g in genders:\n",
    "        s = f\"{e} {g}\"\n",
    "        dems.append(s)\n",
    "        \n",
    "first_names = {}\n",
    "for d in dems:\n",
    "    # Open the file in read binary mode\n",
    "    with open(f\"Names/First_Names/{d}.pkl\", \"rb\") as file:\n",
    "        # Use pickle to load the list object from the file\n",
    "        my_list = pickle.load(file)\n",
    "        first_names[d] = my_list\n",
    "\n",
    "last_names = {}\n",
    "for e in eths:\n",
    "    # Open the file in read binary mode\n",
    "    with open(f\"Names/Last_Names/{e}.pkl\", \"rb\") as file:\n",
    "        # Use pickle to load the list object from the file\n",
    "        my_list = pickle.load(file)\n",
    "        last_names[e] = my_list"
   ]
  },
  {
   "cell_type": "markdown",
   "id": "f0afc6cd",
   "metadata": {},
   "source": [
    "# Distribute Geographic Location"
   ]
  },
  {
   "cell_type": "code",
   "execution_count": 4,
   "id": "8cac83b3",
   "metadata": {},
   "outputs": [],
   "source": [
    "def distribute_geographic_location():\n",
    "    random_number = random.random()\n",
    "    \n",
    "    if random_number < 0.44:\n",
    "        return \"Rural Montana, United States\"\n",
    "    else:\n",
    "        return \"Urban Montana, United States\""
   ]
  },
  {
   "cell_type": "markdown",
   "id": "b72ad0e6",
   "metadata": {},
   "source": [
    "# Distribute Gender"
   ]
  },
  {
   "cell_type": "code",
   "execution_count": 5,
   "id": "372534c1",
   "metadata": {},
   "outputs": [],
   "source": [
    "def distribute_gender():\n",
    "    random_number = random.random()\n",
    "    \n",
    "    if random_number < 0.49:\n",
    "        return \"Female\"\n",
    "    else:\n",
    "        return \"Male\""
   ]
  },
  {
   "cell_type": "markdown",
   "id": "ec792218",
   "metadata": {},
   "source": [
    "# Distribute Ethnicity"
   ]
  },
  {
   "cell_type": "code",
   "execution_count": 6,
   "id": "16e87ee7",
   "metadata": {},
   "outputs": [],
   "source": [
    "def distribute_ethnicity():\n",
    "    random_number = random.random()\n",
    "    \n",
    "    if random_number < 0.88:\n",
    "        return \"White\"\n",
    "    elif random_number < 0.94:\n",
    "        return \"American Indian or Alaska Native\"\n",
    "    elif random_number < 0.95:\n",
    "        return \"Black or African American\"\n",
    "    elif random_number < 0.96:\n",
    "        return \"Asian\"\n",
    "    else:\n",
    "        return \"Hispanic or Latino\""
   ]
  },
  {
   "cell_type": "markdown",
   "id": "dbace5db",
   "metadata": {},
   "source": [
    "# Distribute Age and Income"
   ]
  },
  {
   "cell_type": "code",
   "execution_count": 7,
   "id": "6ce0f977",
   "metadata": {},
   "outputs": [],
   "source": [
    "def distribute_age_and_income():\n",
    "    random_number = random.random()\n",
    "    \n",
    "    if random_number < 0.13:\n",
    "        age = random.randint(18, 25)\n",
    "        \n",
    "        # Set the mean and standard deviation of the normal distribution\n",
    "        mean = 32413  # Mean of the distribution\n",
    "        std_dev = 10000  # Standard deviation of the distribution\n",
    "        income = round(int(np.random.normal(mean, std_dev, size=1)[0]), -2)\n",
    "        \n",
    "        return age, income\n",
    "    elif random_number < 0.44:\n",
    "        age = random.randint(25, 44)\n",
    "        \n",
    "        # Set the mean and standard deviation of the normal distribution\n",
    "        mean = 69192  # Mean of the distribution\n",
    "        std_dev = 20000  # Standard deviation of the distribution\n",
    "        income = round(int(np.random.normal(mean, std_dev, size=1)[0]), -2)\n",
    "        \n",
    "        return age, income\n",
    "    elif random_number < 0.75:\n",
    "        age = random.randint(45, 64)\n",
    "        \n",
    "        # Set the mean and standard deviation of the normal distribution\n",
    "        mean = 71064  # Mean of the distribution\n",
    "        std_dev = 25000  # Standard deviation of the distribution\n",
    "        income = round(int(np.random.normal(mean, std_dev, size=1)[0]), -2)\n",
    "        \n",
    "        return age, income\n",
    "    else:\n",
    "        age = random.randint(65, 87)\n",
    "        \n",
    "        # Set the mean and standard deviation of the normal distribution\n",
    "        mean = 47015  # Mean of the distribution\n",
    "        std_dev = 15000  # Standard deviation of the distribution\n",
    "        income = round(int(np.random.normal(mean, std_dev, size=1)[0]), -2)\n",
    "        \n",
    "        return age, income"
   ]
  },
  {
   "cell_type": "markdown",
   "id": "1c96217f",
   "metadata": {},
   "source": [
    "# Distribute the Education Levels"
   ]
  },
  {
   "cell_type": "code",
   "execution_count": 8,
   "id": "83e996a2",
   "metadata": {},
   "outputs": [],
   "source": [
    "def distribute_education_level():\n",
    "    random_number = random.random()\n",
    "    \n",
    "    if random_number < 0.60:\n",
    "        return \"High school graduate\"\n",
    "    elif random_number < 0.94:\n",
    "        return \"Bachelor's Degree or Higher\"\n",
    "    else:\n",
    "        return \"Less than a high school education\""
   ]
  },
  {
   "cell_type": "markdown",
   "id": "e53727ff",
   "metadata": {},
   "source": [
    "# Distribute Politcal Affiliation\n",
    "    - Reps that say they are conservative at Con\n",
    "    - Reps say moderate, right leaning\n",
    "    - Anyone that contradicts or says dont know is moderate\n",
    "    - Dems that say moderate, left leaning\n",
    "    - Dems that say liberal, liberal"
   ]
  },
  {
   "cell_type": "code",
   "execution_count": 9,
   "id": "7c5032e0",
   "metadata": {},
   "outputs": [],
   "source": [
    "def distribute_party():\n",
    "    random_number = random.random()\n",
    "    \n",
    "    if random_number < 0.42:\n",
    "        return \"Conservative\"\n",
    "    elif random_number < 0.56:\n",
    "        return \"Right Leaning\"\n",
    "    elif random_number < 0.66:\n",
    "        return \"Moderate\"\n",
    "    elif random_number < 0.81:\n",
    "        return \"Left Leaning\"\n",
    "    else:\n",
    "        return \"Liberal\""
   ]
  },
  {
   "cell_type": "markdown",
   "id": "9cf2cc7e",
   "metadata": {},
   "source": [
    "# Distribute Veteran Status"
   ]
  },
  {
   "cell_type": "code",
   "execution_count": 10,
   "id": "143618c6",
   "metadata": {},
   "outputs": [],
   "source": [
    "def distribute_veteran():\n",
    "    random_number = random.random()\n",
    "    \n",
    "    if random_number < 0.9:\n",
    "        return \"Not a Veteran\"\n",
    "    else:\n",
    "        return \"Is a Veteran\""
   ]
  },
  {
   "cell_type": "markdown",
   "id": "4facc55d",
   "metadata": {},
   "source": [
    "# Generate Names"
   ]
  },
  {
   "cell_type": "code",
   "execution_count": 11,
   "id": "8b3c90a3",
   "metadata": {},
   "outputs": [],
   "source": [
    "def generate_name(p):\n",
    "    if p['Gender'] == 'Male':\n",
    "        gen = 'Men'\n",
    "    else:\n",
    "        gen = 'Women'\n",
    "    f_names = first_names[f\"{p['Ethnicity']} {gen}\"]\n",
    "    \n",
    "    first = f_names[random.randint(0,len(f_names)-1)].strip()\n",
    "    \n",
    "    l_names = last_names[f\"{p['Ethnicity']}\"]\n",
    "    last = l_names[random.randint(0,len(l_names)-1)].strip()\n",
    "    \n",
    "    return f\"{first} {last}\""
   ]
  },
  {
   "cell_type": "code",
   "execution_count": 12,
   "id": "99f3d088",
   "metadata": {},
   "outputs": [],
   "source": [
    "def make_persona():\n",
    "    p = {}\n",
    "    # Distribute Age and Income\n",
    "    age, income = distribute_age_and_income()\n",
    "    p['Age'] = str(age)\n",
    "    \n",
    "    # Distribute Gender\n",
    "    p['Gender'] = distribute_gender()\n",
    "    p['Income'] = str(income)\n",
    "    \n",
    "    # Distribute Ethnicity\n",
    "    p['Ethnicity'] = distribute_ethnicity()\n",
    "    \n",
    "    # Distribute Education Level\n",
    "    p['Education Level'] = distribute_education_level()\n",
    "    \n",
    "    # Distribute Political Affiliation\n",
    "    p['Political Affiliation'] = distribute_party()\n",
    "    \n",
    "    # Distribute Geographic Location\n",
    "    p['Geographic Location'] = distribute_geographic_location()\n",
    "    \n",
    "    # Distribute Veteran Status\n",
    "    p['Veteran Status'] = distribute_veteran()\n",
    "    \n",
    "    p['Name'] = generate_name(p)\n",
    "    \n",
    "    return p"
   ]
  },
  {
   "cell_type": "code",
   "execution_count": 13,
   "id": "8260bdd0",
   "metadata": {},
   "outputs": [],
   "source": [
    "poll_size = 10\n",
    "pp = []\n",
    "for i in range(poll_size):\n",
    "    pp.append(make_persona())"
   ]
  },
  {
   "cell_type": "code",
   "execution_count": 14,
   "id": "92be863e",
   "metadata": {},
   "outputs": [],
   "source": [
    "def gen_person_occupation(p):\n",
    "    occ_gen_role = GPT.open_file(\"Prompts/OccupationGen/occ_gen_role.txt\")\n",
    "    prompt = GPT.open_file(\"Prompts/OccupationGen/occ_gen_prompt.txt\").replace('<<PERSON>>', str(p))\n",
    "    occ, usage = GPT.chat_gpt(prompt, engine='gpt-3.5-turbo', temp=0.1, role=occ_gen_role)\n",
    "    \n",
    "    p['Occupation'] = occ\n",
    "    \n",
    "    return p"
   ]
  },
  {
   "cell_type": "code",
   "execution_count": 15,
   "id": "44069043",
   "metadata": {},
   "outputs": [
    {
     "name": "stdout",
     "output_type": "stream",
     "text": [
      "Error communicating with OpenAI: That model is currently overloaded with other requests. You can retry your request, or contact us through our help center at help.openai.com if the error persists. (Please include the request ID 65352b441324808df6f4de5e1b2d3789 in your message.)\n"
     ]
    }
   ],
   "source": [
    "# Create a thread pool with 10 workers\n",
    "with concurrent.futures.ThreadPoolExecutor(max_workers=10) as executor:\n",
    "    # Submit each person to the worker pool\n",
    "    pp_occ = executor.map(gen_person_occupation, pp)"
   ]
  },
  {
   "cell_type": "code",
   "execution_count": 16,
   "id": "5b00bc63",
   "metadata": {},
   "outputs": [],
   "source": [
    "# for p in pp_occ:\n",
    "#     print(p, '\\n')"
   ]
  },
  {
   "cell_type": "code",
   "execution_count": 17,
   "id": "03dc6ac5",
   "metadata": {},
   "outputs": [],
   "source": [
    "def gen_person_media(p):\n",
    "    media_gen_role = GPT.open_file(\"Prompts/MediaGen/media_gen_role.txt\")\n",
    "    prompt = GPT.open_file(\"Prompts/MediaGen/media_gen_in.txt\").replace('<<PERSON>>', str(p))\n",
    "    media, usage = GPT.chat_gpt(prompt, engine='gpt-3.5-turbo', temp=0.1, role=media_gen_role)\n",
    "    \n",
    "    p['Media Consumption'] = media\n",
    "    \n",
    "    return p"
   ]
  },
  {
   "cell_type": "code",
   "execution_count": 18,
   "id": "0844a748",
   "metadata": {},
   "outputs": [],
   "source": [
    "# Create a thread pool with 10 workers\n",
    "with concurrent.futures.ThreadPoolExecutor(max_workers=10) as executor:\n",
    "    # Submit each person to the worker pool\n",
    "    pp_media = executor.map(gen_person_media, pp_occ)"
   ]
  },
  {
   "cell_type": "code",
   "execution_count": 19,
   "id": "0016de5f",
   "metadata": {},
   "outputs": [
    {
     "ename": "AttributeError",
     "evalue": "'generator' object has no attribute 'copy'",
     "output_type": "error",
     "traceback": [
      "\u001b[0;31m---------------------------------------------------------------------------\u001b[0m",
      "\u001b[0;31mAttributeError\u001b[0m                            Traceback (most recent call last)",
      "Cell \u001b[0;32mIn[19], line 1\u001b[0m\n\u001b[0;32m----> 1\u001b[0m ppp \u001b[38;5;241m=\u001b[39m \u001b[43mpp_media\u001b[49m\u001b[38;5;241;43m.\u001b[39;49m\u001b[43mcopy\u001b[49m()\n",
      "\u001b[0;31mAttributeError\u001b[0m: 'generator' object has no attribute 'copy'"
     ]
    }
   ],
   "source": [
    "ppp = pp_media.copy()"
   ]
  },
  {
   "cell_type": "code",
   "execution_count": 20,
   "id": "860bd4d2",
   "metadata": {},
   "outputs": [
    {
     "name": "stdout",
     "output_type": "stream",
     "text": [
      "{'Age': '78', 'Gender': 'Male', 'Income': '69700', 'Ethnicity': 'White', 'Education Level': 'High school graduate', 'Political Affiliation': 'Right Leaning', 'Geographic Location': 'Rural Montana, United States', 'Veteran Status': 'Not a Veteran', 'Name': 'Justin Powell', 'Occupation': 'Retired Farmer.', 'Media Consumption': \"Based on the demographic information provided, Justin Powell, a retired farmer from rural Montana, is likely to trust and consume media outlets that align with his right-leaning political affiliation and rural lifestyle. He may also prefer traditional forms of media consumption, such as television and radio.\\n\\nHere are some media outlets that Justin Powell may trust and consume regularly:\\n\\n1. Fox News - Justin may trust Fox News as a source of conservative news and commentary.\\n\\n2. The Rush Limbaugh Show - As a right-leaning individual, Justin may listen to conservative talk radio, such as The Rush Limbaugh Show.\\n\\n3. The Western Journal - This online news source may appeal to Justin's rural lifestyle and conservative values.\\n\\n4. The Daily Caller - Justin may trust The Daily Caller as a source of conservative news and opinion.\\n\\n5. The Blaze - This conservative news and opinion website may align with Justin's political beliefs.\\n\\nAs a retired farmer, Justin may consume a moderate amount of media, with a preference for traditional forms of media consumption. He may watch a few hours of television per day and listen to conservative talk radio while working on his farm. He may also read online news sources for a few hours per week.\"} \n",
      "\n",
      "{'Age': '59', 'Gender': 'Female', 'Income': '65200', 'Ethnicity': 'White', 'Education Level': 'High school graduate', 'Political Affiliation': 'Conservative', 'Geographic Location': 'Rural Montana, United States', 'Veteran Status': 'Not a Veteran', 'Name': 'Carolyn Butler', 'Occupation': 'Farmer.', 'Media Consumption': 'Based on the demographic information provided, Carolyn Butler, a 59-year-old female, high school graduate, conservative, white farmer from rural Montana, is likely to trust and consume media outlets that align with her political views and lifestyle. \\n\\nShe is likely to consume a moderate amount of media, as she is a busy farmer. \\n\\nHere are some media outlets that Carolyn Butler may trust and consume regularly:\\n\\n1. Fox News - Carolyn is likely to trust and consume Fox News as it aligns with her conservative political views.\\n\\n2. The Western Journal - This news outlet is known for its conservative views and covers topics that may be of interest to Carolyn as a farmer living in rural Montana.\\n\\n3. The Daily Caller - This news outlet is known for its conservative views and covers topics that may be of interest to Carolyn as a farmer living in rural Montana.\\n\\n4. The Blaze - This news outlet is known for its conservative views and covers topics that may be of interest to Carolyn as a farmer living in rural Montana.\\n\\n5. AgWeb - This website provides news and information specifically for farmers, which may be of interest to Carolyn as a farmer herself.\\n\\n6. Rural Montana - This local newspaper covers news and events specific to rural Montana, which may be of interest to Carolyn as a resident of the area.\\n\\nOverall, Carolyn is likely to consume a moderate amount of media, with a focus on news outlets that align with her conservative political views and lifestyle as a farmer living in rural Montana.'} \n",
      "\n",
      "{'Age': '73', 'Gender': 'Male', 'Income': '74800', 'Ethnicity': 'White', 'Education Level': 'High school graduate', 'Political Affiliation': 'Liberal', 'Geographic Location': 'Urban Montana, United States', 'Veteran Status': 'Not a Veteran', 'Name': 'Justin Bryant', 'Occupation': 'Retired rancher.', 'Media Consumption': 'Based on the demographic information provided, Justin Bryant, a 73-year-old retired rancher from urban Montana, United States, who is a liberal and a high school graduate, is likely to trust and consume the following media outlets regularly:\\n\\n1. The New York Times - Justin is likely to trust and consume The New York Times regularly as it is a reputable and well-established newspaper that leans towards liberal views.\\n\\n2. MSNBC - Justin is likely to consume MSNBC regularly as it is a news channel that caters to a liberal audience and provides in-depth coverage of political news and events.\\n\\n3. NPR - Justin is likely to trust and consume NPR regularly as it is a public radio station that provides unbiased news coverage and caters to a liberal audience.\\n\\n4. The Washington Post - Justin is likely to trust and consume The Washington Post regularly as it is a reputable newspaper that provides in-depth coverage of political news and events.\\n\\n5. CNN - Justin is likely to consume CNN regularly as it is a news channel that provides in-depth coverage of political news and events.\\n\\nBased on his age and retired status, Justin is likely to consume a moderate amount of media, spending a few hours a day reading newspapers, watching news channels, and listening to the radio.'} \n",
      "\n",
      "{'Age': '67', 'Gender': 'Female', 'Income': '52100', 'Ethnicity': 'White', 'Education Level': 'High school graduate', 'Political Affiliation': 'Conservative', 'Geographic Location': 'Urban Montana, United States', 'Veteran Status': 'Not a Veteran', 'Name': 'Susan Watson', 'Occupation': 'Retired.', 'Media Consumption': 'Based on the demographic information provided, Susan Watson, a 67-year-old retired conservative woman with a high school education living in urban Montana, is likely to trust and consume the following media outlets regularly:\\n\\n1. Fox News - Susan is likely to trust and consume Fox News regularly as it is a popular conservative news outlet that aligns with her political affiliation.\\n\\n2. The Wall Street Journal - As a retired individual with an income of $52,100, Susan is likely to trust and consume The Wall Street Journal regularly as it is a reputable source for financial news and information.\\n\\n3. The Drudge Report - Susan is likely to trust and consume The Drudge Report regularly as it is a popular conservative news aggregator that provides a variety of news stories from different sources.\\n\\n4. Rush Limbaugh Show - Susan is likely to trust and consume the Rush Limbaugh Show regularly as it is a popular conservative talk radio show that aligns with her political affiliation.\\n\\n5. The Daily Caller - Susan is likely to trust and consume The Daily Caller regularly as it is a conservative news and opinion website that provides a variety of news stories from different sources.\\n\\nBased on her demographic information, Susan is likely to consume a moderate amount of media, spending a few hours each day reading or watching news and listening to talk radio.'} \n",
      "\n",
      "{'Age': '65', 'Gender': 'Male', 'Income': '26700', 'Ethnicity': 'White', 'Education Level': 'High school graduate', 'Political Affiliation': 'Left Leaning', 'Geographic Location': 'Urban Montana, United States', 'Veteran Status': 'Not a Veteran', 'Name': 'Jacob James', 'Occupation': 'Retired factory worker.', 'Media Consumption': 'Based on the demographic information provided, Jacob James is likely to trust and consume media outlets that cater to left-leaning political views. As a retired factory worker with a high school education, he may also prefer media outlets that are more accessible and easy to understand.\\n\\nHere are some media outlets that Jacob James may trust and consume regularly:\\n\\n1. MSNBC - Jacob James may trust and consume MSNBC as it is a left-leaning news outlet that provides in-depth coverage of political issues.\\n\\n2. The New York Times - As a well-respected newspaper, The New York Times may be a trusted source of news for Jacob James.\\n\\n3. NPR - Jacob James may listen to NPR for its in-depth coverage of political issues and its left-leaning perspective.\\n\\n4. The Daily Show with Trevor Noah - As a retired factory worker, Jacob James may prefer to consume news in a more entertaining format. The Daily Show with Trevor Noah provides a left-leaning perspective on current events in a comedic format.\\n\\n5. The Guardian - Jacob James may trust and consume The Guardian as it is a left-leaning news outlet that provides in-depth coverage of political issues.\\n\\nBased on his demographic information, Jacob James may consume media for a few hours a day, likely in the evening or early morning.'} \n",
      "\n",
      "{'Age': '18', 'Gender': 'Male', 'Income': '37400', 'Ethnicity': 'White', 'Education Level': \"Bachelor's Degree or Higher\", 'Political Affiliation': 'Liberal', 'Geographic Location': 'Rural Montana, United States', 'Veteran Status': 'Not a Veteran', 'Name': 'Bradley Perry', 'Occupation': 'Environmental activist.', 'Media Consumption': \"Based on the demographic information provided, Bradley Perry is likely to trust and consume media outlets that align with his liberal political affiliation and environmental activism. As a young adult male with a Bachelor's degree or higher, he is likely to consume a significant amount of media on a daily basis. \\n\\nHere are some media outlets that Bradley Perry may trust and consume regularly:\\n\\n1. The New York Times - Bradley is likely to trust this newspaper for its liberal-leaning reporting and coverage of environmental issues.\\n2. MSNBC - As a liberal, Bradley may consume this news channel for its left-leaning political commentary and coverage of environmental issues.\\n3. The Guardian - Bradley may trust this newspaper for its progressive reporting on environmental issues.\\n4. NPR - Bradley may listen to this radio station for its in-depth reporting on environmental issues and liberal-leaning political commentary.\\n5. Vice - Bradley may consume this media outlet for its coverage of environmental issues and progressive political commentary.\\n\\nGiven that Bradley is from a rural area, he may also consume local news sources such as the Montana Standard or the Billings Gazette. However, as an environmental activist, he is likely to prioritize national and international news sources that cover environmental issues.\"} \n",
      "\n",
      "{'Age': '33', 'Gender': 'Female', 'Income': '31900', 'Ethnicity': 'White', 'Education Level': \"Bachelor's Degree or Higher\", 'Political Affiliation': 'Left Leaning', 'Geographic Location': 'Urban Montana, United States', 'Veteran Status': 'Not a Veteran', 'Name': 'Tanya Price', 'Occupation': 'Marketing Manager.', 'Media Consumption': \"Based on the demographic information provided, Tanya Price, a 33-year-old white female with a bachelor's degree or higher, residing in urban Montana, United States, and earning an income of $31,900, is likely to trust and consume media outlets that align with her left-leaning political affiliation. \\n\\nShe is likely to consume a moderate amount of media, including:\\n\\n1. CNN - Tanya is likely to trust and consume CNN regularly for its in-depth coverage of political news and analysis.\\n\\n2. The New York Times - Tanya is likely to trust and consume The New York Times regularly for its comprehensive coverage of national and international news.\\n\\n3. MSNBC - Tanya is likely to trust and consume MSNBC regularly for its left-leaning political commentary and analysis.\\n\\n4. NPR - Tanya is likely to trust and consume NPR regularly for its in-depth coverage of news and analysis.\\n\\n5. The Huffington Post - Tanya is likely to trust and consume The Huffington Post regularly for its left-leaning political commentary and analysis.\\n\\nOverall, Tanya is likely to consume a moderate amount of media, spending a few hours each day reading or watching news and analysis from these outlets.\"} \n",
      "\n",
      "{'Age': '78', 'Gender': 'Male', 'Income': '49700', 'Ethnicity': 'White', 'Education Level': \"Bachelor's Degree or Higher\", 'Political Affiliation': 'Left Leaning', 'Geographic Location': 'Urban Montana, United States', 'Veteran Status': 'Is a Veteran', 'Name': 'Colin Phillips', 'Occupation': 'Retired Professor.', 'Media Consumption': 'Based on the demographic information provided, Colin Phillips is likely to trust and consume media outlets that align with his left-leaning political affiliation and higher education level. As a retired professor, he may also have a preference for more intellectual and in-depth content. \\n\\nHere are some media outlets that Colin Phillips may trust and consume regularly:\\n\\n1. The New York Times - Colin may trust this newspaper for its in-depth coverage of national and international news, as well as its left-leaning editorial stance.\\n\\n2. NPR - As a retired professor, Colin may enjoy listening to NPR for its in-depth reporting and analysis of current events, as well as its cultural programming.\\n\\n3. The Atlantic - Colin may trust this magazine for its long-form journalism and intellectual content, as well as its left-leaning editorial stance.\\n\\n4. MSNBC - Colin may consume this cable news channel for its left-leaning political commentary and analysis.\\n\\n5. The Daily Show with Trevor Noah - Colin may enjoy watching this satirical news program for its left-leaning political commentary and humor.\\n\\nBased on his age and veteran status, Colin may also consume some traditional media outlets such as local newspapers and broadcast news programs. However, as an urban resident, he may also consume a significant amount of online media. \\n\\nOverall, Colin Phillips is likely to consume a moderate amount of media each day, with a preference for more intellectual and left-leaning content.'} \n",
      "\n",
      "{'Age': '81', 'Gender': 'Female', 'Income': '48800', 'Ethnicity': 'White', 'Education Level': 'High school graduate', 'Political Affiliation': 'Liberal', 'Geographic Location': 'Urban Montana, United States', 'Veteran Status': 'Not a Veteran', 'Name': 'Sarah Garcia', 'Occupation': 'Retired Teacher.', 'Media Consumption': 'Based on the demographic information provided, Sarah Garcia is likely to trust and consume media outlets that align with her liberal political affiliation and age group. As an 81-year-old retired teacher living in an urban area of Montana, she may consume a moderate amount of media.\\n\\nHere are some media outlets that Sarah Garcia may trust and consume regularly:\\n\\n1. The New York Times - Sarah may trust this newspaper for its liberal-leaning reporting and in-depth coverage of national and international news.\\n\\n2. MSNBC - As a liberal, Sarah may consume this cable news channel for its left-leaning commentary and analysis of current events.\\n\\n3. NPR - Sarah may trust this radio network for its in-depth reporting and analysis of news and cultural events.\\n\\n4. The Huffington Post - Sarah may consume this online news outlet for its liberal-leaning reporting and opinion pieces.\\n\\n5. The Daily Show with Trevor Noah - Sarah may enjoy this satirical news program for its humorous take on current events from a liberal perspective.\\n\\nOverall, Sarah Garcia is likely to consume a moderate amount of media from a variety of sources, including newspapers, cable news, radio, and online outlets.'} \n",
      "\n",
      "{'Age': '69', 'Gender': 'Female', 'Income': '49600', 'Ethnicity': 'White', 'Education Level': \"Bachelor's Degree or Higher\", 'Political Affiliation': 'Left Leaning', 'Geographic Location': 'Rural Montana, United States', 'Veteran Status': 'Not a Veteran', 'Name': 'Scarlett Scott', 'Occupation': 'Retired Teacher.', 'Media Consumption': 'Based on the demographic information provided, Scarlett Scott, a 69-year-old retired teacher from rural Montana, is likely to trust and consume media outlets that align with her left-leaning political affiliation and higher education level. \\n\\nShe may consume a moderate amount of media, as she is retired and has more free time, but living in a rural area may limit her access to certain media outlets.\\n\\nHere are some media outlets that Scarlett Scott may trust and consume regularly:\\n\\n1. The New York Times - Scarlett may trust this newspaper for its in-depth coverage of national and international news, as well as its left-leaning editorial stance.\\n\\n2. MSNBC - As a left-leaning individual, Scarlett may consume this cable news channel for its progressive political commentary and analysis.\\n\\n3. NPR - Scarlett may trust this radio network for its in-depth reporting and analysis of news and current events, as well as its left-leaning editorial stance.\\n\\n4. The Washington Post - Scarlett may trust this newspaper for its in-depth coverage of national and international news, as well as its left-leaning editorial stance.\\n\\n5. The Daily Show with Trevor Noah - Scarlett may consume this satirical news program for its left-leaning political commentary and analysis, as well as its entertainment value.\\n\\nOverall, Scarlett Scott is likely to consume a moderate amount of media from a variety of sources that align with her left-leaning political affiliation and higher education level.'} \n",
      "\n"
     ]
    }
   ],
   "source": [
    "for p in pp_media:\n",
    "    print(p, '\\n')"
   ]
  },
  {
   "cell_type": "code",
   "execution_count": 28,
   "id": "6eb47c79",
   "metadata": {},
   "outputs": [],
   "source": [
    "def dict_to_paragraph(persona, residence):\n",
    "    priorities = ', '.join(persona[\"Top Priorities\"])\n",
    "    try:\n",
    "        pain_points = ', '.join(persona[\"Pain points\"])\n",
    "    except:\n",
    "        pain_points = ', '.join(persona[\"Pain Points\"])\n",
    "    \n",
    "    return (f\"Your name is {persona['Name']}, you are a {persona['Age']} year old {persona['Ethnicity']} {persona['Gender']}. \"\n",
    "            f\"You live in {residence} and your annual income is ${persona['Income']}. \"\n",
    "            f\"Your marital status is {persona['Marital Status']}, and your highest level of education is {persona['Education Level']}. \"\n",
    "            f\"You work as a {persona['Occupation']}. You are described as '{persona['Description']}'. \"\n",
    "            f\"Your top priorities are {priorities}. You are facing some challenges, including {pain_points}.\")\n"
   ]
  },
  {
   "cell_type": "code",
   "execution_count": null,
   "id": "a6612623",
   "metadata": {},
   "outputs": [],
   "source": []
  }
 ],
 "metadata": {
  "kernelspec": {
   "display_name": "Python 3 (ipykernel)",
   "language": "python",
   "name": "python3"
  },
  "language_info": {
   "codemirror_mode": {
    "name": "ipython",
    "version": 3
   },
   "file_extension": ".py",
   "mimetype": "text/x-python",
   "name": "python",
   "nbconvert_exporter": "python",
   "pygments_lexer": "ipython3",
   "version": "3.9.16"
  }
 },
 "nbformat": 4,
 "nbformat_minor": 5
}
