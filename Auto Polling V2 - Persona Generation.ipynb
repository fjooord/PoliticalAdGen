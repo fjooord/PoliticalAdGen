{
 "cells": [
  {
   "cell_type": "markdown",
   "id": "65e20385",
   "metadata": {},
   "source": [
    "# Auto Polling\n",
    "    - The original persona generation worked, but the personas were too generic and didnt give a model context to \n",
    "        make accurate predictions of the beliefs of a person\n",
    "    - Now making a new pipeline that will create personas in different stages to \n",
    "        "
   ]
  },
  {
   "cell_type": "code",
   "execution_count": 1,
   "id": "8f276369",
   "metadata": {},
   "outputs": [],
   "source": [
    "import Utils.Chat_GPT_Funcs as GPT\n",
    "import concurrent.futures\n",
    "import os\n",
    "import string\n",
    "import random\n",
    "import numpy as np\n",
    "import pickle"
   ]
  },
  {
   "cell_type": "code",
   "execution_count": 2,
   "id": "346d525d",
   "metadata": {},
   "outputs": [],
   "source": [
    "def create_directory_if_not_exists(file_path):\n",
    "    directory = os.path.dirname(file_path)\n",
    "    if not os.path.exists(directory):\n",
    "        os.makedirs(directory)"
   ]
  },
  {
   "cell_type": "markdown",
   "id": "b629bf82",
   "metadata": {},
   "source": [
    "# Load First and Last Names"
   ]
  },
  {
   "cell_type": "code",
   "execution_count": 3,
   "id": "4d9e0a35",
   "metadata": {},
   "outputs": [],
   "source": [
    "eths = [\"White\", \"American Indian or Alaska Native\", \"Black or African American\", \"Asian\", \"Hispanic or Latino\"]\n",
    "genders = ['Men', 'Women']\n",
    "\n",
    "dems = []\n",
    "for e in eths:\n",
    "    for g in genders:\n",
    "        s = f\"{e} {g}\"\n",
    "        dems.append(s)\n",
    "        \n",
    "first_names = {}\n",
    "for d in dems:\n",
    "    # Open the file in read binary mode\n",
    "    with open(f\"Names/First_Names/{d}.pkl\", \"rb\") as file:\n",
    "        # Use pickle to load the list object from the file\n",
    "        my_list = pickle.load(file)\n",
    "        first_names[d] = my_list\n",
    "\n",
    "last_names = {}\n",
    "for e in eths:\n",
    "    # Open the file in read binary mode\n",
    "    with open(f\"Names/Last_Names/{e}.pkl\", \"rb\") as file:\n",
    "        # Use pickle to load the list object from the file\n",
    "        my_list = pickle.load(file)\n",
    "        last_names[e] = my_list"
   ]
  },
  {
   "cell_type": "markdown",
   "id": "f0afc6cd",
   "metadata": {},
   "source": [
    "# Distribute Geographic Location"
   ]
  },
  {
   "cell_type": "code",
   "execution_count": 4,
   "id": "8cac83b3",
   "metadata": {},
   "outputs": [],
   "source": [
    "def distribute_geographic_location():\n",
    "    random_number = random.random()\n",
    "    \n",
    "    if random_number < 0.44:\n",
    "        return \"Rural Montana, United States\"\n",
    "    else:\n",
    "        return \"Urban Montana, United States\""
   ]
  },
  {
   "cell_type": "markdown",
   "id": "b72ad0e6",
   "metadata": {},
   "source": [
    "# Distribute Gender"
   ]
  },
  {
   "cell_type": "code",
   "execution_count": 5,
   "id": "372534c1",
   "metadata": {},
   "outputs": [],
   "source": [
    "def distribute_gender():\n",
    "    random_number = random.random()\n",
    "    \n",
    "    if random_number < 0.49:\n",
    "        return \"Female\"\n",
    "    else:\n",
    "        return \"Male\""
   ]
  },
  {
   "cell_type": "markdown",
   "id": "ec792218",
   "metadata": {},
   "source": [
    "# Distribute Ethnicity"
   ]
  },
  {
   "cell_type": "code",
   "execution_count": 6,
   "id": "16e87ee7",
   "metadata": {},
   "outputs": [],
   "source": [
    "def distribute_ethnicity():\n",
    "    random_number = random.random()\n",
    "    \n",
    "    if random_number < 0.88:\n",
    "        return \"White\"\n",
    "    elif random_number < 0.94:\n",
    "        return \"American Indian or Alaska Native\"\n",
    "    elif random_number < 0.95:\n",
    "        return \"Black or African American\"\n",
    "    elif random_number < 0.96:\n",
    "        return \"Asian\"\n",
    "    else:\n",
    "        return \"Hispanic or Latino\""
   ]
  },
  {
   "cell_type": "markdown",
   "id": "dbace5db",
   "metadata": {},
   "source": [
    "# Distribute Age and Income"
   ]
  },
  {
   "cell_type": "code",
   "execution_count": 7,
   "id": "6ce0f977",
   "metadata": {},
   "outputs": [],
   "source": [
    "def distribute_age_and_income():\n",
    "    random_number = random.random()\n",
    "    \n",
    "    if random_number < 0.13:\n",
    "        age = random.randint(18, 25)\n",
    "        \n",
    "        # Set the mean and standard deviation of the normal distribution\n",
    "        mean = 32413  # Mean of the distribution\n",
    "        std_dev = 10000  # Standard deviation of the distribution\n",
    "        income = round(int(np.random.normal(mean, std_dev, size=1)[0]), -2)\n",
    "        \n",
    "        return age, income\n",
    "    elif random_number < 0.44:\n",
    "        age = random.randint(25, 44)\n",
    "        \n",
    "        # Set the mean and standard deviation of the normal distribution\n",
    "        mean = 69192  # Mean of the distribution\n",
    "        std_dev = 20000  # Standard deviation of the distribution\n",
    "        income = round(int(np.random.normal(mean, std_dev, size=1)[0]), -2)\n",
    "        \n",
    "        return age, income\n",
    "    elif random_number < 0.75:\n",
    "        age = random.randint(45, 64)\n",
    "        \n",
    "        # Set the mean and standard deviation of the normal distribution\n",
    "        mean = 71064  # Mean of the distribution\n",
    "        std_dev = 25000  # Standard deviation of the distribution\n",
    "        income = round(int(np.random.normal(mean, std_dev, size=1)[0]), -2)\n",
    "        \n",
    "        return age, income\n",
    "    else:\n",
    "        age = random.randint(65, 87)\n",
    "        \n",
    "        # Set the mean and standard deviation of the normal distribution\n",
    "        mean = 47015  # Mean of the distribution\n",
    "        std_dev = 15000  # Standard deviation of the distribution\n",
    "        income = round(int(np.random.normal(mean, std_dev, size=1)[0]), -2)\n",
    "        \n",
    "        return age, income"
   ]
  },
  {
   "cell_type": "markdown",
   "id": "1c96217f",
   "metadata": {},
   "source": [
    "# Distribute the Education Levels"
   ]
  },
  {
   "cell_type": "code",
   "execution_count": 8,
   "id": "83e996a2",
   "metadata": {},
   "outputs": [],
   "source": [
    "def distribute_education_level():\n",
    "    random_number = random.random()\n",
    "    \n",
    "    if random_number < 0.60:\n",
    "        return \"High school graduate\"\n",
    "    elif random_number < 0.94:\n",
    "        return \"Bachelor's Degree or Higher\"\n",
    "    else:\n",
    "        return \"Less than a high school education\""
   ]
  },
  {
   "cell_type": "markdown",
   "id": "e53727ff",
   "metadata": {},
   "source": [
    "# Distribute Politcal Affiliation\n",
    "    - Reps that say they are conservative at Con\n",
    "    - Reps say moderate, right leaning\n",
    "    - Anyone that contradicts or says dont know is moderate\n",
    "    - Dems that say moderate, left leaning\n",
    "    - Dems that say liberal, liberal"
   ]
  },
  {
   "cell_type": "code",
   "execution_count": 9,
   "id": "7c5032e0",
   "metadata": {},
   "outputs": [],
   "source": [
    "def distribute_party():\n",
    "    random_number = random.random()\n",
    "    \n",
    "    if random_number < 0.42:\n",
    "        return \"Conservative\"\n",
    "    elif random_number < 0.56:\n",
    "        return \"Right Leaning\"\n",
    "    elif random_number < 0.66:\n",
    "        return \"Moderate\"\n",
    "    elif random_number < 0.81:\n",
    "        return \"Left Leaning\"\n",
    "    else:\n",
    "        return \"Liberal\""
   ]
  },
  {
   "cell_type": "markdown",
   "id": "9cf2cc7e",
   "metadata": {},
   "source": [
    "# Distribute Veteran Status"
   ]
  },
  {
   "cell_type": "code",
   "execution_count": 10,
   "id": "143618c6",
   "metadata": {},
   "outputs": [],
   "source": [
    "def distribute_veteran():\n",
    "    random_number = random.random()\n",
    "    \n",
    "    if random_number < 0.9:\n",
    "        return \"Not a Veteran\"\n",
    "    else:\n",
    "        return \"Is a Veteran\""
   ]
  },
  {
   "cell_type": "markdown",
   "id": "9857cce4",
   "metadata": {},
   "source": [
    "# Generate Names"
   ]
  },
  {
   "cell_type": "code",
   "execution_count": 11,
   "id": "b49bdb6b",
   "metadata": {},
   "outputs": [],
   "source": [
    "def generate_name(p):\n",
    "    if p['Gender'] == 'Male':\n",
    "        gen = 'Men'\n",
    "    else:\n",
    "        gen = 'Women'\n",
    "    f_names = first_names[f\"{p['Ethnicity']} {gen}\"]\n",
    "    \n",
    "    first = f_names[random.randint(0,len(f_names)-1)].strip()\n",
    "    \n",
    "    l_names = last_names[f\"{p['Ethnicity']}\"]\n",
    "    last = l_names[random.randint(0,len(l_names)-1)].strip()\n",
    "    \n",
    "    return f\"{first} {last}\""
   ]
  },
  {
   "cell_type": "code",
   "execution_count": 12,
   "id": "99f3d088",
   "metadata": {},
   "outputs": [],
   "source": [
    "def make_persona():\n",
    "    p = {}\n",
    "    # Distribute Age and Income\n",
    "    age, income = distribute_age_and_income()\n",
    "    p['Age'] = str(age)\n",
    "    \n",
    "    # Distribute Gender\n",
    "    p['Gender'] = distribute_gender()\n",
    "    p['Income'] = str(income)\n",
    "    \n",
    "    # Distribute Ethnicity\n",
    "    p['Ethnicity'] = distribute_ethnicity()\n",
    "    \n",
    "    # Distribute Education Level\n",
    "    p['Education Level'] = distribute_education_level()\n",
    "    \n",
    "    # Distribute Political Affiliation\n",
    "    p['Political Affiliation'] = distribute_party()\n",
    "    \n",
    "    # Distribute Geographic Location\n",
    "    p['Geographic Location'] = distribute_geographic_location()\n",
    "    \n",
    "    # Distribute Veteran Status\n",
    "    p['Veteran Status'] = distribute_veteran()\n",
    "    \n",
    "    p['Name'] = generate_name(p)\n",
    "    \n",
    "    return p"
   ]
  },
  {
   "cell_type": "code",
   "execution_count": 13,
   "id": "8260bdd0",
   "metadata": {},
   "outputs": [],
   "source": [
    "poll_size = 10\n",
    "pp = []\n",
    "for i in range(poll_size):\n",
    "    pp.append(make_persona())"
   ]
  },
  {
   "cell_type": "code",
   "execution_count": 14,
   "id": "e255ccb0",
   "metadata": {},
   "outputs": [],
   "source": [
    "def gen_person_occupation(p):\n",
    "    occ_gen_role = GPT.open_file(\"Prompts/OccupationGen/occ_gen_role.txt\")\n",
    "    prompt = GPT.open_file(\"Prompts/OccupationGen/occ_gen_prompt.txt\").replace('<<PERSON>>', str(p))\n",
    "    occ, usage = GPT.chat_gpt(prompt, engine='gpt-3.5-turbo', temp=0.1, role=occ_gen_role)\n",
    "    \n",
    "    p['Occupation'] = occ\n",
    "    \n",
    "    return p"
   ]
  },
  {
   "cell_type": "code",
   "execution_count": 15,
   "id": "44069043",
   "metadata": {},
   "outputs": [],
   "source": [
    "# Create a thread pool with 10 workers\n",
    "with concurrent.futures.ThreadPoolExecutor(max_workers=10) as executor:\n",
    "    # Submit each person to the worker pool\n",
    "    pp_occ = executor.map(gen_person_occupation, pp)"
   ]
  },
  {
   "cell_type": "code",
   "execution_count": 16,
   "id": "cb584f26",
   "metadata": {},
   "outputs": [],
   "source": [
    "# for p in pp_occ:\n",
    "#     print(p, '\\n')"
   ]
  },
  {
   "cell_type": "code",
   "execution_count": 17,
   "id": "7a76103b",
   "metadata": {},
   "outputs": [],
   "source": [
    "def gen_person_media(p):\n",
    "    media_gen_role = GPT.open_file(\"Prompts/MediaGen/media_gen_role.txt\")\n",
    "    prompt = GPT.open_file(\"Prompts/MediaGen/media_gen_in.txt\").replace('<<PERSON>>', str(p))\n",
    "    media, usage = GPT.chat_gpt(prompt, engine='gpt-3.5-turbo', temp=0.1, role=media_gen_role)\n",
    "    \n",
    "    p['Media Consumption'] = media\n",
    "    \n",
    "    return p"
   ]
  },
  {
   "cell_type": "code",
   "execution_count": 18,
   "id": "2a042e12",
   "metadata": {},
   "outputs": [],
   "source": [
    "# Create a thread pool with 10 workers\n",
    "with concurrent.futures.ThreadPoolExecutor(max_workers=10) as executor:\n",
    "    # Submit each person to the worker pool\n",
    "    pp_media = executor.map(gen_person_media, pp_occ)"
   ]
  },
  {
   "cell_type": "code",
   "execution_count": 20,
   "id": "fb1578bb",
   "metadata": {},
   "outputs": [],
   "source": [
    "ppp = list(pp_media)"
   ]
  },
  {
   "cell_type": "code",
   "execution_count": 22,
   "id": "61f837e7",
   "metadata": {},
   "outputs": [
    {
     "name": "stdout",
     "output_type": "stream",
     "text": [
      "{'Age': '22', 'Gender': 'Male', 'Income': '48500', 'Ethnicity': 'White', 'Education Level': 'High school graduate', 'Political Affiliation': 'Conservative', 'Geographic Location': 'Urban Montana, United States', 'Veteran Status': 'Not a Veteran', 'Name': 'Louis Watson', 'Occupation': 'Construction worker.', 'Media Consumption': 'Based on the demographic information provided, Louis Watson, a 22-year-old male, high school graduate, and construction worker from urban Montana, United States, with a conservative political affiliation, is likely to trust and consume the following media outlets regularly:\\n\\n1. Fox News - Louis is likely to trust and consume Fox News regularly as it is known for its conservative bias and is a popular news source among conservatives.\\n\\n2. The Daily Wire - This news outlet is known for its conservative views and is likely to be trusted and consumed by Louis.\\n\\n3. The Blaze - This news outlet is also known for its conservative views and is likely to be trusted and consumed by Louis.\\n\\n4. Breitbart News - This news outlet is known for its far-right views and is likely to be trusted and consumed by Louis.\\n\\n5. The Drudge Report - This news aggregator website is known for its conservative views and is likely to be trusted and consumed by Louis.\\n\\nAs a construction worker, Louis may not have a lot of free time to consume media, but he is likely to consume at least 2-3 hours of media per day, with a preference for news and opinion pieces that align with his conservative political views.'} \n",
      "\n",
      "{'Age': '82', 'Gender': 'Male', 'Income': '38600', 'Ethnicity': 'White', 'Education Level': 'High school graduate', 'Political Affiliation': 'Conservative', 'Geographic Location': 'Urban Montana, United States', 'Veteran Status': 'Not a Veteran', 'Name': 'Louis Brown', 'Occupation': 'Retired Farmer.', 'Media Consumption': 'Based on the demographic information provided, Louis Brown, a retired farmer from urban Montana, United States, is likely to trust and consume media outlets that cater to conservative political views and rural lifestyle. \\n\\nHe may consume a moderate amount of media, as he is retired and has more free time, but may also prioritize other activities such as spending time with family and friends or engaging in outdoor activities.\\n\\nHere are some media outlets that Louis Brown may trust and consume regularly:\\n\\n1. Fox News - Louis Brown is likely to trust and consume Fox News as it is a conservative news outlet that aligns with his political affiliation.\\n\\n2. The Western Journal - This online news source caters to conservative readers and focuses on rural lifestyle and values, which may appeal to Louis Brown.\\n\\n3. The Daily Caller - This conservative news outlet covers a range of topics, including politics, culture, and lifestyle, and may be a source of news and information for Louis Brown.\\n\\n4. The Blaze - This conservative news and opinion website may appeal to Louis Brown as it covers a range of topics, including politics, culture, and lifestyle, and has a focus on conservative values.\\n\\n5. Rural Radio Network - This radio network provides news and information specifically for rural communities and may be a source of news and entertainment for Louis Brown.\\n\\nOverall, Louis Brown is likely to consume media that aligns with his conservative political views and rural lifestyle, and may prioritize other activities over consuming a large amount of media.'} \n",
      "\n",
      "{'Age': '18', 'Gender': 'Female', 'Income': '26100', 'Ethnicity': 'White', 'Education Level': \"Bachelor's Degree or Higher\", 'Political Affiliation': 'Conservative', 'Geographic Location': 'Urban Montana, United States', 'Veteran Status': 'Not a Veteran', 'Name': 'Daisy Henderson', 'Occupation': 'Political Campaign Intern.', 'Media Consumption': \"Based on the demographic information provided, Daisy Henderson, a 18-year-old female with a Bachelor's Degree or Higher, residing in Urban Montana, United States, and identifying as a Conservative, is likely to trust and consume media outlets that align with her political views and interests. \\n\\nShe is likely to consume a moderate amount of media, as she is a Political Campaign Intern and may have limited free time. \\n\\nThe media outlets that Daisy Henderson is likely to trust and consume regularly are:\\n\\n1. Fox News - Daisy is likely to trust and consume Fox News as it is a conservative news outlet that aligns with her political affiliation.\\n\\n2. The Daily Wire - This news outlet is known for its conservative commentary and news coverage, making it a likely choice for Daisy.\\n\\n3. The Blaze - This news outlet is known for its conservative commentary and news coverage, making it a likely choice for Daisy.\\n\\n4. Breitbart News - This news outlet is known for its conservative commentary and news coverage, making it a likely choice for Daisy.\\n\\n5. The Washington Times - This news outlet is known for its conservative commentary and news coverage, making it a likely choice for Daisy.\\n\\nOverall, Daisy is likely to consume a moderate amount of media from these conservative news outlets to stay informed about political news and events.\"} \n",
      "\n",
      "{'Age': '41', 'Gender': 'Male', 'Income': '78900', 'Ethnicity': 'White', 'Education Level': 'High school graduate', 'Political Affiliation': 'Conservative', 'Geographic Location': 'Rural Montana, United States', 'Veteran Status': 'Not a Veteran', 'Name': 'Ian Price', 'Occupation': 'Farmer.', 'Media Consumption': 'Based on the demographic information provided, Ian Price, a 41-year-old white male with a high school education living in rural Montana with a conservative political affiliation and an income of $78,900, is likely to trust and consume media outlets that align with his political views and lifestyle.\\n\\nIan is likely to consume a moderate amount of media, as he is a farmer and may not have a lot of free time for leisure activities.\\n\\nThe media outlets that Ian is likely to trust and consume regularly are:\\n\\n1. Fox News - Ian is likely to trust and consume Fox News as it aligns with his conservative political views.\\n\\n2. The Daily Caller - Ian is likely to consume The Daily Caller as it is a conservative news outlet that covers politics, opinion, and breaking news.\\n\\n3. The Western Journal - Ian is likely to trust and consume The Western Journal as it is a conservative news outlet that covers politics, opinion, and breaking news with a focus on Western states.\\n\\n4. The Blaze - Ian is likely to consume The Blaze as it is a conservative news outlet that covers politics, opinion, and breaking news.\\n\\n5. The Drudge Report - Ian is likely to consume The Drudge Report as it is a conservative news aggregator that covers politics, opinion, and breaking news.\\n\\nOverall, Ian is likely to consume a moderate amount of media from these conservative news outlets to stay informed about current events and political news that align with his views.'} \n",
      "\n",
      "{'Age': '45', 'Gender': 'Male', 'Income': '105200', 'Ethnicity': 'White', 'Education Level': \"Bachelor's Degree or Higher\", 'Political Affiliation': 'Conservative', 'Geographic Location': 'Rural Montana, United States', 'Veteran Status': 'Not a Veteran', 'Name': 'Eric Peterson', 'Occupation': 'Agricultural Business Owner.', 'Media Consumption': \"Based on the demographic information provided, Eric Peterson, a 45-year-old white male with a Bachelor's Degree or Higher, living in rural Montana, and identifying as a conservative, is likely to trust and consume media outlets that align with his political views and lifestyle.\\n\\nEric is likely to consume a moderate amount of media, as he is a busy agricultural business owner. He may consume media during his morning routine or in the evenings after work.\\n\\nThe media outlets that Eric Peterson is likely to trust and consume regularly are:\\n\\n1. Fox News - Eric is likely to trust and consume Fox News as it aligns with his conservative political views.\\n\\n2. The Wall Street Journal - Eric is likely to trust and consume The Wall Street Journal as it provides business news and financial information that is relevant to his occupation.\\n\\n3. The Blaze - Eric is likely to trust and consume The Blaze as it is a conservative news outlet that covers a range of topics, including politics, culture, and business.\\n\\n4. The Daily Caller - Eric is likely to trust and consume The Daily Caller as it is a conservative news outlet that covers a range of topics, including politics, culture, and business.\\n\\n5. The Drudge Report - Eric is likely to trust and consume The Drudge Report as it is a conservative news aggregator that provides a range of news stories from various sources.\\n\\nOverall, Eric is likely to consume a moderate amount of media from these outlets, as they align with his political views and provide relevant information for his occupation.\"} \n",
      "\n",
      "{'Age': '35', 'Gender': 'Male', 'Income': '83200', 'Ethnicity': 'White', 'Education Level': \"Bachelor's Degree or Higher\", 'Political Affiliation': 'Conservative', 'Geographic Location': 'Rural Montana, United States', 'Veteran Status': 'Not a Veteran', 'Name': 'Frank Jones', 'Occupation': 'Agricultural Engineer.', 'Media Consumption': \"Based on the demographic information provided, Frank Jones is likely to trust and consume media outlets that align with his conservative political affiliation and rural geographic location. He may also consume media related to his occupation as an agricultural engineer.\\n\\nSome media outlets that Frank Jones may trust and consume regularly include:\\n\\n1. Fox News - Frank is likely to trust this conservative news outlet for its coverage of political and social issues.\\n\\n2. The Wall Street Journal - As someone with a higher income and education level, Frank may trust this business-focused newspaper for its coverage of financial and economic news.\\n\\n3. The Blaze - This conservative news and opinion website may appeal to Frank's political views.\\n\\n4. AgWeb - As an agricultural engineer, Frank may consume this website for its coverage of agricultural news and information.\\n\\n5. Rural Radio Network - This radio network may be a trusted source of news and information for Frank, given his rural location.\\n\\nIn terms of how much media Frank consumes, it's difficult to say without more information. However, as someone with a busy occupation and potentially limited access to high-speed internet in rural Montana, he may consume a moderate amount of media each day, such as reading a newspaper or listening to the radio during his commute.\"} \n",
      "\n",
      "{'Age': '48', 'Gender': 'Male', 'Income': '51500', 'Ethnicity': 'White', 'Education Level': \"Bachelor's Degree or Higher\", 'Political Affiliation': 'Liberal', 'Geographic Location': 'Rural Montana, United States', 'Veteran Status': 'Not a Veteran', 'Name': 'Steven Barnes', 'Occupation': 'Environmental Scientist.', 'Media Consumption': \"Based on the demographic information provided, Steven Barnes is likely to trust and consume media outlets that align with his liberal political affiliation and higher education level. As he lives in a rural area, he may rely heavily on online sources for news and information. \\n\\nHere are some media outlets that Steven Barnes may trust and consume regularly:\\n\\n1. The New York Times - Steven may trust this newspaper for its in-depth coverage of national and international news, as well as its liberal-leaning editorial stance.\\n\\n2. NPR - As a radio listener, Steven may tune in to NPR for its in-depth reporting and analysis of current events, as well as its focus on cultural programming.\\n\\n3. The Guardian - Steven may trust this British newspaper for its progressive editorial stance and international coverage.\\n\\n4. MSNBC - As a liberal, Steven may watch this cable news channel for its left-leaning commentary and analysis.\\n\\n5. The Atlantic - Steven may read this magazine for its long-form journalism and thought-provoking essays on politics, culture, and society.\\n\\nAs an environmental scientist, Steven may also consume media outlets that focus on environmental issues, such as:\\n\\n6. Grist - Steven may read this online publication for its coverage of environmental news and sustainability issues.\\n\\n7. Environmental Defense Fund - Steven may follow this organization's website and social media accounts for updates on environmental policy and advocacy.\\n\\nBased on his demographic information, Steven may consume a moderate amount of media, likely spending a few hours each day reading, listening, or watching news and information.\"} \n",
      "\n",
      "{'Age': '29', 'Gender': 'Female', 'Income': '43900', 'Ethnicity': 'White', 'Education Level': \"Bachelor's Degree or Higher\", 'Political Affiliation': 'Left Leaning', 'Geographic Location': 'Urban Montana, United States', 'Veteran Status': 'Not a Veteran', 'Name': 'Mariah Brown', 'Occupation': 'Marketing Manager.', 'Media Consumption': \"Based on the demographic information provided, Mariah Brown, a 29-year-old female marketing manager with a Bachelor's degree or higher, residing in urban Montana, United States, and identifying as left-leaning politically, is likely to trust and consume the following media outlets regularly:\\n\\n1. The New York Times - Mariah is well-educated and politically left-leaning, making The New York Times a likely source of news and information for her.\\n\\n2. CNN - As a left-leaning individual, Mariah is likely to trust CNN as a reliable source of news and information.\\n\\n3. NPR - National Public Radio (NPR) is a popular news source among educated individuals, and Mariah's educational background makes her a likely listener.\\n\\n4. The Huffington Post - The Huffington Post is a popular news source among left-leaning individuals, making it a likely source of news and information for Mariah.\\n\\n5. MSNBC - As a left-leaning individual, Mariah is likely to trust MSNBC as a reliable source of news and information.\\n\\nMariah is likely to consume a moderate amount of media, as she is a marketing manager and likely has a busy schedule. She may consume media during her commute or in the evenings after work. She is likely to consume a mix of print, online, and broadcast media, with a preference for online sources due to her urban location.\"} \n",
      "\n",
      "{'Age': '53', 'Gender': 'Male', 'Income': '62000', 'Ethnicity': 'White', 'Education Level': 'High school graduate', 'Political Affiliation': 'Right Leaning', 'Geographic Location': 'Urban Montana, United States', 'Veteran Status': 'Is a Veteran', 'Name': 'Paul Flores', 'Occupation': 'Construction worker.', 'Media Consumption': 'Based on the demographic information provided, Paul Flores is likely to trust and consume media outlets that cater to a right-leaning, working-class audience. He may also consume media that focuses on veteran-related issues.\\n\\nHere are some media outlets that Paul Flores may trust and consume regularly:\\n\\n1. Fox News - Paul Flores may trust and consume Fox News regularly as it is known for its conservative-leaning reporting and commentary.\\n\\n2. The Daily Caller - This news outlet is known for its conservative-leaning reporting and may be a source of news for Paul Flores.\\n\\n3. The Blaze - This news outlet is known for its conservative-leaning reporting and may be a source of news for Paul Flores.\\n\\n4. Breitbart - This news outlet is known for its conservative-leaning reporting and may be a source of news for Paul Flores.\\n\\n5. Military Times - As a veteran, Paul Flores may trust and consume Military Times regularly as it is a source of news and information for the military community.\\n\\n6. The Montana Standard - As a resident of Montana, Paul Flores may trust and consume The Montana Standard regularly as it is a local news source.\\n\\nBased on his occupation as a construction worker, Paul Flores may not have a lot of free time to consume media. However, he may consume media during his commute or during his breaks. He may also consume media in the evenings or on weekends.'} \n",
      "\n",
      "{'Age': '56', 'Gender': 'Female', 'Income': '57900', 'Ethnicity': 'White', 'Education Level': \"Bachelor's Degree or Higher\", 'Political Affiliation': 'Moderate', 'Geographic Location': 'Urban Montana, United States', 'Veteran Status': 'Not a Veteran', 'Name': 'Doris Garcia', 'Occupation': 'Marketing Manager.', 'Media Consumption': \"Based on the demographic information provided, Doris Garcia is likely to trust and consume media outlets that are considered mainstream and reputable. She is a 56-year-old female with a Bachelor's Degree or higher, living in an urban area in Montana, United States. She is a moderate politically and has an annual income of $57,900. \\n\\nDoris Garcia is likely to consume a moderate amount of media, including both traditional and digital media. She is likely to read newspapers such as The New York Times, The Washington Post, and USA Today. She may also watch news programs on television such as CNN, MSNBC, and Fox News. \\n\\nAs a marketing manager, she is likely to consume media related to her profession, such as Forbes, Harvard Business Review, and Marketing Week. She may also consume lifestyle and entertainment media such as People Magazine, Entertainment Weekly, and HGTV. \\n\\nOverall, Doris Garcia is likely to consume a diverse range of media outlets that provide her with a mix of news, information, and entertainment.\"} \n",
      "\n"
     ]
    }
   ],
   "source": [
    "for p in ppp:\n",
    "    print(p, '\\n')"
   ]
  },
  {
   "cell_type": "code",
   "execution_count": 31,
   "id": "a9a32f1d",
   "metadata": {},
   "outputs": [],
   "source": [
    "def gen_person_voting_history(p):\n",
    "    voting_gen_role = GPT.open_file(\"Prompts/AskingPersona/load_persona_role.txt\").replace('<<PERSON>>', str(p))\n",
    "    prompt = GPT.open_file(\"Prompts/AskingPersona/gen_voting_history.txt\")\n",
    "    vh, usage = GPT.chat_gpt(prompt, engine='gpt-3.5-turbo', temp=0.1, role=voting_gen_role)\n",
    "    \n",
    "    p['Voting History'] = vh\n",
    "    \n",
    "    return p"
   ]
  },
  {
   "cell_type": "code",
   "execution_count": 32,
   "id": "7f9f9afa",
   "metadata": {},
   "outputs": [],
   "source": [
    "# Create a thread pool with 10 workers\n",
    "with concurrent.futures.ThreadPoolExecutor(max_workers=10) as executor:\n",
    "    # Submit each person to the worker pool\n",
    "    pp_vote = executor.map(gen_person_voting_history, ppp)"
   ]
  },
  {
   "cell_type": "code",
   "execution_count": 33,
   "id": "092379df",
   "metadata": {},
   "outputs": [],
   "source": [
    "pppp = list(pp_vote)"
   ]
  },
  {
   "cell_type": "code",
   "execution_count": 34,
   "id": "40a194e3",
   "metadata": {},
   "outputs": [
    {
     "data": {
      "text/plain": [
       "{'Age': '22',\n",
       " 'Gender': 'Male',\n",
       " 'Income': '48500',\n",
       " 'Ethnicity': 'White',\n",
       " 'Education Level': 'High school graduate',\n",
       " 'Political Affiliation': 'Conservative',\n",
       " 'Geographic Location': 'Urban Montana, United States',\n",
       " 'Veteran Status': 'Not a Veteran',\n",
       " 'Name': 'Louis Watson',\n",
       " 'Occupation': 'Construction worker.',\n",
       " 'Media Consumption': 'Based on the demographic information provided, Louis Watson, a 22-year-old male, high school graduate, and construction worker from urban Montana, United States, with a conservative political affiliation, is likely to trust and consume the following media outlets regularly:\\n\\n1. Fox News - Louis is likely to trust and consume Fox News regularly as it is known for its conservative bias and is a popular news source among conservatives.\\n\\n2. The Daily Wire - This news outlet is known for its conservative views and is likely to be trusted and consumed by Louis.\\n\\n3. The Blaze - This news outlet is also known for its conservative views and is likely to be trusted and consumed by Louis.\\n\\n4. Breitbart News - This news outlet is known for its far-right views and is likely to be trusted and consumed by Louis.\\n\\n5. The Drudge Report - This news aggregator website is known for its conservative views and is likely to be trusted and consumed by Louis.\\n\\nAs a construction worker, Louis may not have a lot of free time to consume media, but he is likely to consume at least 2-3 hours of media per day, with a preference for news and opinion pieces that align with his conservative political views.',\n",
       " 'Voting History': 'As Louis Watson, I have only recently turned 22 years old, so I have not had the opportunity to vote in many elections. However, I do plan on voting in the upcoming elections. As a conservative, I am likely to vote for candidates who align with my political views and values. I believe in smaller government, lower taxes, and individual freedoms. I have not yet decided which specific candidates I will vote for, but I will do my research and make an informed decision based on their policies and track records.'}"
      ]
     },
     "execution_count": 34,
     "metadata": {},
     "output_type": "execute_result"
    }
   ],
   "source": [
    "pppp[0]"
   ]
  },
  {
   "cell_type": "code",
   "execution_count": 39,
   "id": "0838b0cd",
   "metadata": {},
   "outputs": [],
   "source": [
    "def gen_person_group_membership(p):\n",
    "    voting_gen_role = GPT.open_file(\"Prompts/AskingPersona/load_persona_role.txt\").replace('<<PERSON>>', str(p))\n",
    "    prompt = GPT.open_file(\"Prompts/AskingPersona/gen_group_membership.txt\")\n",
    "    vh, usage = GPT.chat_gpt(prompt, engine='gpt-3.5-turbo', temp=0.1, role=voting_gen_role)\n",
    "    \n",
    "    p['Group Membership'] = vh\n",
    "    \n",
    "    return p"
   ]
  },
  {
   "cell_type": "code",
   "execution_count": 40,
   "id": "f1e3cc42",
   "metadata": {},
   "outputs": [],
   "source": [
    "# Create a thread pool with 10 workers\n",
    "with concurrent.futures.ThreadPoolExecutor(max_workers=10) as executor:\n",
    "    # Submit each person to the worker pool\n",
    "    pp_mem = executor.map(gen_person_group_membership, pppp)"
   ]
  },
  {
   "cell_type": "code",
   "execution_count": 41,
   "id": "19bd882c",
   "metadata": {},
   "outputs": [],
   "source": [
    "ppppp = list(pp_mem)"
   ]
  },
  {
   "cell_type": "code",
   "execution_count": 42,
   "id": "4dd634c4",
   "metadata": {},
   "outputs": [
    {
     "data": {
      "text/plain": [
       "{'Age': '22',\n",
       " 'Gender': 'Male',\n",
       " 'Income': '48500',\n",
       " 'Ethnicity': 'White',\n",
       " 'Education Level': 'High school graduate',\n",
       " 'Political Affiliation': 'Conservative',\n",
       " 'Geographic Location': 'Urban Montana, United States',\n",
       " 'Veteran Status': 'Not a Veteran',\n",
       " 'Name': 'Louis Watson',\n",
       " 'Occupation': 'Construction worker.',\n",
       " 'Media Consumption': 'Based on the demographic information provided, Louis Watson, a 22-year-old male, high school graduate, and construction worker from urban Montana, United States, with a conservative political affiliation, is likely to trust and consume the following media outlets regularly:\\n\\n1. Fox News - Louis is likely to trust and consume Fox News regularly as it is known for its conservative bias and is a popular news source among conservatives.\\n\\n2. The Daily Wire - This news outlet is known for its conservative views and is likely to be trusted and consumed by Louis.\\n\\n3. The Blaze - This news outlet is also known for its conservative views and is likely to be trusted and consumed by Louis.\\n\\n4. Breitbart News - This news outlet is known for its far-right views and is likely to be trusted and consumed by Louis.\\n\\n5. The Drudge Report - This news aggregator website is known for its conservative views and is likely to be trusted and consumed by Louis.\\n\\nAs a construction worker, Louis may not have a lot of free time to consume media, but he is likely to consume at least 2-3 hours of media per day, with a preference for news and opinion pieces that align with his conservative political views.',\n",
       " 'Voting History': 'As Louis Watson, I am not currently part of any political, social, or professional groups or organizations. However, I do keep up with conservative news and opinion pieces through various media outlets. As a construction worker, I am focused on my job and do not have much free time to devote to outside organizations.',\n",
       " 'Group Membership': 'As Louis Watson, I am not currently part of any political, social, or professional groups or organizations. However, I do keep up with conservative news and opinion pieces through various media outlets. As a construction worker, I am focused on my job and do not have much free time to devote to outside organizations.'}"
      ]
     },
     "execution_count": 42,
     "metadata": {},
     "output_type": "execute_result"
    }
   ],
   "source": [
    "ppppp[0]"
   ]
  },
  {
   "cell_type": "code",
   "execution_count": 43,
   "id": "6412c3e5",
   "metadata": {},
   "outputs": [],
   "source": [
    "def gen_person_group_membership(p):\n",
    "    voting_gen_role = GPT.open_file(\"Prompts/AskingPersona/load_persona_role.txt\").replace('<<PERSON>>', str(p))\n",
    "    prompt = GPT.open_file(\"Prompts/AskingPersona/gen_influential_figures.txt\")\n",
    "    vh, usage = GPT.chat_gpt(prompt, engine='gpt-3.5-turbo', temp=0.1, role=voting_gen_role)\n",
    "    \n",
    "    p['Influential Figures'] = vh\n",
    "    \n",
    "    return p"
   ]
  },
  {
   "cell_type": "code",
   "execution_count": 44,
   "id": "593e3f7b",
   "metadata": {},
   "outputs": [],
   "source": [
    "# Create a thread pool with 10 workers\n",
    "with concurrent.futures.ThreadPoolExecutor(max_workers=10) as executor:\n",
    "    # Submit each person to the worker pool\n",
    "    pp_if = executor.map(gen_person_group_membership, ppppp)"
   ]
  },
  {
   "cell_type": "code",
   "execution_count": 45,
   "id": "114c05a9",
   "metadata": {},
   "outputs": [],
   "source": [
    "pppppp = list(pp_if)"
   ]
  },
  {
   "cell_type": "code",
   "execution_count": 46,
   "id": "863d534e",
   "metadata": {},
   "outputs": [
    {
     "data": {
      "text/plain": [
       "{'Age': '22',\n",
       " 'Gender': 'Male',\n",
       " 'Income': '48500',\n",
       " 'Ethnicity': 'White',\n",
       " 'Education Level': 'High school graduate',\n",
       " 'Political Affiliation': 'Conservative',\n",
       " 'Geographic Location': 'Urban Montana, United States',\n",
       " 'Veteran Status': 'Not a Veteran',\n",
       " 'Name': 'Louis Watson',\n",
       " 'Occupation': 'Construction worker.',\n",
       " 'Media Consumption': 'Based on the demographic information provided, Louis Watson, a 22-year-old male, high school graduate, and construction worker from urban Montana, United States, with a conservative political affiliation, is likely to trust and consume the following media outlets regularly:\\n\\n1. Fox News - Louis is likely to trust and consume Fox News regularly as it is known for its conservative bias and is a popular news source among conservatives.\\n\\n2. The Daily Wire - This news outlet is known for its conservative views and is likely to be trusted and consumed by Louis.\\n\\n3. The Blaze - This news outlet is also known for its conservative views and is likely to be trusted and consumed by Louis.\\n\\n4. Breitbart News - This news outlet is known for its far-right views and is likely to be trusted and consumed by Louis.\\n\\n5. The Drudge Report - This news aggregator website is known for its conservative views and is likely to be trusted and consumed by Louis.\\n\\nAs a construction worker, Louis may not have a lot of free time to consume media, but he is likely to consume at least 2-3 hours of media per day, with a preference for news and opinion pieces that align with his conservative political views.',\n",
       " 'Voting History': 'As Louis Watson, I am not currently part of any political, social, or professional groups or organizations. However, I do keep up with conservative news and opinion pieces through various media outlets. As a construction worker, I am focused on my job and do not have much free time to devote to outside organizations.',\n",
       " 'Group Membership': 'As Louis Watson, I am not currently part of any political, social, or professional groups or organizations. However, I do keep up with conservative news and opinion pieces through various media outlets. As a construction worker, I am focused on my job and do not have much free time to devote to outside organizations.',\n",
       " 'Influential Figures': 'As Louis Watson, I have a great deal of respect for former President Donald Trump. I appreciate his strong stance on immigration and his efforts to bring jobs back to America. I also admire his willingness to stand up to the mainstream media and the political establishment. Additionally, I have a lot of respect for conservative commentator Ben Shapiro, who I believe is a strong voice for conservative values and principles.'}"
      ]
     },
     "execution_count": 46,
     "metadata": {},
     "output_type": "execute_result"
    }
   ],
   "source": [
    "pppppp[0]"
   ]
  },
  {
   "cell_type": "code",
   "execution_count": 49,
   "id": "dbe881b2",
   "metadata": {},
   "outputs": [],
   "source": [
    "def gen_person_personal_anecdotes(p):\n",
    "    voting_gen_role = GPT.open_file(\"Prompts/AskingPersona/load_persona_role.txt\").replace('<<PERSON>>', str(p))\n",
    "    prompt = GPT.open_file(\"Prompts/AskingPersona/personal_anecdotes.txt\")\n",
    "    vh, usage = GPT.chat_gpt(prompt, engine='gpt-3.5-turbo', temp=0.1, role=voting_gen_role)\n",
    "    \n",
    "    p['Personal Anecdotes'] = vh\n",
    "    \n",
    "    return p"
   ]
  },
  {
   "cell_type": "code",
   "execution_count": 50,
   "id": "dca75d5a",
   "metadata": {},
   "outputs": [],
   "source": [
    "# Create a thread pool with 10 workers\n",
    "with concurrent.futures.ThreadPoolExecutor(max_workers=10) as executor:\n",
    "    # Submit each person to the worker pool\n",
    "    pp_anec = executor.map(gen_person_personal_anecdotes, pppppp)"
   ]
  },
  {
   "cell_type": "code",
   "execution_count": 51,
   "id": "f0ef693f",
   "metadata": {},
   "outputs": [
    {
     "data": {
      "text/plain": [
       "{'Age': '22',\n",
       " 'Gender': 'Male',\n",
       " 'Income': '48500',\n",
       " 'Ethnicity': 'White',\n",
       " 'Education Level': 'High school graduate',\n",
       " 'Political Affiliation': 'Conservative',\n",
       " 'Geographic Location': 'Urban Montana, United States',\n",
       " 'Veteran Status': 'Not a Veteran',\n",
       " 'Name': 'Louis Watson',\n",
       " 'Occupation': 'Construction worker.',\n",
       " 'Media Consumption': 'Based on the demographic information provided, Louis Watson, a 22-year-old male, high school graduate, and construction worker from urban Montana, United States, with a conservative political affiliation, is likely to trust and consume the following media outlets regularly:\\n\\n1. Fox News - Louis is likely to trust and consume Fox News regularly as it is known for its conservative bias and is a popular news source among conservatives.\\n\\n2. The Daily Wire - This news outlet is known for its conservative views and is likely to be trusted and consumed by Louis.\\n\\n3. The Blaze - This news outlet is also known for its conservative views and is likely to be trusted and consumed by Louis.\\n\\n4. Breitbart News - This news outlet is known for its far-right views and is likely to be trusted and consumed by Louis.\\n\\n5. The Drudge Report - This news aggregator website is known for its conservative views and is likely to be trusted and consumed by Louis.\\n\\nAs a construction worker, Louis may not have a lot of free time to consume media, but he is likely to consume at least 2-3 hours of media per day, with a preference for news and opinion pieces that align with his conservative political views.',\n",
       " 'Voting History': 'As Louis Watson, I am not currently part of any political, social, or professional groups or organizations. However, I do keep up with conservative news and opinion pieces through various media outlets. As a construction worker, I am focused on my job and do not have much free time to devote to outside organizations.',\n",
       " 'Group Membership': 'As Louis Watson, I am not currently part of any political, social, or professional groups or organizations. However, I do keep up with conservative news and opinion pieces through various media outlets. As a construction worker, I am focused on my job and do not have much free time to devote to outside organizations.',\n",
       " 'Influential Figures': 'As Louis Watson, I have a great deal of respect for former President Donald Trump. I appreciate his strong stance on immigration and his efforts to bring jobs back to America. I also admire his willingness to stand up to the mainstream media and the political establishment. Additionally, I have a lot of respect for conservative commentator Ben Shapiro, who I believe is a strong voice for conservative values and principles.',\n",
       " 'Personal Anecdotes': 'As Louis Watson, I have not had any personal experiences that have significantly shaped my political views. However, growing up in a conservative household and being exposed to conservative media outlets has played a significant role in shaping my political beliefs. Additionally, my job as a construction worker has given me a firsthand understanding of the importance of job creation and economic growth, which aligns with conservative economic policies.'}"
      ]
     },
     "execution_count": 51,
     "metadata": {},
     "output_type": "execute_result"
    }
   ],
   "source": [
    "ppppppp = list(pp_anec)\n",
    "ppppppp[0]"
   ]
  },
  {
   "cell_type": "code",
   "execution_count": null,
   "id": "e67163d0",
   "metadata": {},
   "outputs": [],
   "source": [
    "def gen_person_personal_anecdotes(p):\n",
    "    voting_gen_role = GPT.open_file(\"Prompts/AskingPersona/load_persona_role.txt\").replace('<<PERSON>>', str(p))\n",
    "    prompt = GPT.open_file(\"Prompts/AskingPersona/gen_future_aspirations_and_concerns.txt\")\n",
    "    vh, usage = GPT.chat_gpt(prompt, engine='gpt-3.5-turbo', temp=0.1, role=voting_gen_role)\n",
    "    \n",
    "    p['Future Aspirations/Concerns'] = vh\n",
    "    \n",
    "    return p"
   ]
  },
  {
   "cell_type": "code",
   "execution_count": null,
   "id": "47673cb2",
   "metadata": {},
   "outputs": [],
   "source": [
    "# Create a thread pool with 10 workers\n",
    "with concurrent.futures.ThreadPoolExecutor(max_workers=10) as executor:\n",
    "    # Submit each person to the worker pool\n",
    "    pp_anec = executor.map(gen_person_personal_anecdotes, ppppppp)"
   ]
  },
  {
   "cell_type": "code",
   "execution_count": 28,
   "id": "6eb47c79",
   "metadata": {},
   "outputs": [],
   "source": [
    "def dict_to_paragraph(persona, residence):\n",
    "    priorities = ', '.join(persona[\"Top Priorities\"])\n",
    "    try:\n",
    "        pain_points = ', '.join(persona[\"Pain points\"])\n",
    "    except:\n",
    "        pain_points = ', '.join(persona[\"Pain Points\"])\n",
    "    \n",
    "    return (f\"Your name is {persona['Name']}, you are a {persona['Age']} year old {persona['Ethnicity']} {persona['Gender']}. \"\n",
    "            f\"You live in {residence} and your annual income is ${persona['Income']}. \"\n",
    "            f\"Your marital status is {persona['Marital Status']}, and your highest level of education is {persona['Education Level']}. \"\n",
    "            f\"You work as a {persona['Occupation']}. You are described as '{persona['Description']}'. \"\n",
    "            f\"Your top priorities are {priorities}. You are facing some challenges, including {pain_points}.\")\n"
   ]
  },
  {
   "cell_type": "code",
   "execution_count": null,
   "id": "3f81ccae",
   "metadata": {},
   "outputs": [],
   "source": []
  }
 ],
 "metadata": {
  "kernelspec": {
   "display_name": "Python 3 (ipykernel)",
   "language": "python",
   "name": "python3"
  },
  "language_info": {
   "codemirror_mode": {
    "name": "ipython",
    "version": 3
   },
   "file_extension": ".py",
   "mimetype": "text/x-python",
   "name": "python",
   "nbconvert_exporter": "python",
   "pygments_lexer": "ipython3",
   "version": "3.9.16"
  }
 },
 "nbformat": 4,
 "nbformat_minor": 5
}
