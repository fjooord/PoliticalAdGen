{
 "cells": [
  {
   "cell_type": "code",
   "execution_count": 1,
   "id": "e30d553b",
   "metadata": {},
   "outputs": [],
   "source": [
    "import Utils.Chat_GPT_Funcs as GPT\n",
    "import concurrent.futures\n",
    "import os\n",
    "import string\n",
    "import random\n",
    "import numpy as np\n",
    "import pickle"
   ]
  },
  {
   "cell_type": "code",
   "execution_count": 2,
   "id": "beea3c6f",
   "metadata": {},
   "outputs": [],
   "source": [
    "def create_directory_if_not_exists(file_path):\n",
    "    directory = os.path.dirname(file_path)\n",
    "    if not os.path.exists(directory):\n",
    "        os.makedirs(directory)"
   ]
  },
  {
   "cell_type": "code",
   "execution_count": 3,
   "id": "fb367fc7",
   "metadata": {},
   "outputs": [],
   "source": [
    "eths = [\"White\", \"American Indian or Alaska Native\", \"Black or African American\", \"Asian\", \"Hispanic or Latino\"]\n",
    "genders = ['Men', 'Women']"
   ]
  },
  {
   "cell_type": "code",
   "execution_count": 4,
   "id": "951ebba4",
   "metadata": {},
   "outputs": [
    {
     "name": "stdout",
     "output_type": "stream",
     "text": [
      "White Men\n",
      "White Women\n",
      "American Indian or Alaska Native Men\n",
      "American Indian or Alaska Native Women\n",
      "Black or African American Men\n",
      "Black or African American Women\n",
      "Asian Men\n",
      "Asian Women\n",
      "Hispanic or Latino Men\n",
      "Hispanic or Latino Women\n"
     ]
    }
   ],
   "source": [
    "dems = []\n",
    "for e in eths:\n",
    "    for g in genders:\n",
    "        s = f\"{e} {g}\"\n",
    "        print(s)\n",
    "        dems.append(s)"
   ]
  },
  {
   "cell_type": "code",
   "execution_count": 6,
   "id": "74b06b6f",
   "metadata": {},
   "outputs": [],
   "source": [
    "def process_demographic(d):\n",
    "    name_gen_role = GPT.open_file(\"Prompts/NameGen/name_gen_role.txt\")\n",
    "    prompt = GPT.open_file(\"Prompts/NameGen/first_names.txt\").replace('<<DEMOGRAPHIC>>', d)\n",
    "    names, usage = GPT.chat_gpt(prompt, engine='gpt-3.5-turbo', temp=0.1, role=name_gen_role)\n",
    "    name_list = names.split(',')\n",
    "    parent_path = \"Names/First_Names/\"\n",
    "    create_directory_if_not_exists(parent_path)\n",
    "    file_path = parent_path + f\"{d}.pkl\"\n",
    "    \n",
    "    print(\"Saving:\", file_path)\n",
    "    print(names +'\\n\\n\\n\\n')\n",
    "    # Open a file in write binary mode\n",
    "    with open(file_path, \"wb\") as file:\n",
    "        # Use pickle to dump the list object into the file\n",
    "        pickle.dump(name_list, file)"
   ]
  },
  {
   "cell_type": "code",
   "execution_count": 7,
   "id": "7b42c487",
   "metadata": {},
   "outputs": [
    {
     "name": "stdout",
     "output_type": "stream",
     "text": [
      "Saving: Names/First_Names/White Men.pkl\n",
      "Adam, Alan, Alexander, Andrew, Anthony, Arthur, Benjamin, Blake, Bradley, Brandon, Brian, Caleb, Cameron, Charles, Christopher, Cody, Colin, Connor, Craig, Daniel, David, Dean, Derek, Dylan, Edward, Eric, Ethan, Evan, Frank, Gabriel, Garrett, George, Gregory, Henry, Hunter, Ian, Isaac, Jack, Jacob, James, Jason, Jeffrey, Jeremy, Jesse, John, Jonathan, Jordan, Joseph, Joshua, Justin, Keith, Kenneth, Kevin, Kyle, Lance, Larry, Logan, Louis, Lucas, Mark, Matthew, Michael, Nathan, Nicholas, Patrick, Paul, Peter, Philip, Preston, Raymond, Richard, Robert, Ryan, Samuel, Scott, Sean, Steven, Taylor, Thomas, Timothy, Travis, Trevor, Tyler, Victor, Vincent, Walter, William.\n",
      "\n",
      "\n",
      "\n",
      "\n",
      "Saving: Names/First_Names/Hispanic or Latino Men.pkl\n",
      "Adán, Alejandro, Alonso, Álvaro, Amado, Andrés, Antonio, Armando, Arturo, Augusto, Benito, Bernardo, Carlos, César, Cristóbal, Daniel, David, Diego, Domingo, Eduardo, Emilio, Enrique, Ernesto, Esteban, Eugenio, Felipe, Fernando, Francisco, Gabriel, Gerardo, Gilberto, Gonzalo, Gregorio, Guillermo, Gustavo, Héctor, Hernán, Horacio, Ignacio, Isaac, Ismael, Iván, Jaime, Javier, Jesús, Joaquín, Jorge, José, Juan, Julio, Leonardo, Leonel, Leopoldo, Lorenzo, Luis, Manuel, Marco, Marcos, Mario, Martín, Mauricio, Maximiliano, Miguel, Néstor, Nicolás, Octavio, Omar, Orlando, Pablo, Pancho, Pedro, Rafael, Ramiro, Ramón, Raúl, Ricardo, Roberto, Rodrigo, Rogelio, Salvador, Samuel, Santiago, Sebastián, Sergio, Teodoro, Tomás, Valentín, Víctor, Xavier, Yago.\n",
      "\n",
      "\n",
      "\n",
      "\n",
      "Saving: Names/First_Names/Black or African American Men.pkl\n",
      "Adrian, Ahmad, Aiden, Alonzo, Andre, Anthony, Antoine, Antonio, Armani, Ashton, Barry, Ben, Bernard, Blake, Brandon, Brian, Byron, Cameron, Carl, Cedric, Charles, Chris, Christian, Christopher, Clarence, Clifford, Clinton, Corey, Craig, Curtis, Darnell, Darryl, Daryl, David, Deandre, Dejuan, Demarcus, Demetrius, Dennis, Derrick, Desmond, Devante, Devonte, Dion, Dominique, Don, Donald, Donovan, Donte, Dorian, Douglas, Duane, Dwight, Earl, Edward, Elijah, Eric, Ernest, Eugene, Evan, Everett, Frank, Franklin, Fred, Gabriel, Gary, George, Gerald, Gilbert, Glenn, Gregory, Harold, Harrison, Harry, Henry, Herbert, Howard, Isaac, Isaiah, Ivan, Jalen, Jamal, James, Jared, Jason, Jaylen, Jeffrey, Jerome, Jerry, Jesse, Jimmy, Joe, John, Johnny, Jonathan, Jordan, Joseph, Joshua.\n",
      "\n",
      "\n",
      "\n",
      "\n",
      "Saving: Names/First_Names/Black or African American Women.pkl\n",
      "Adanna, Aisha, Akilah, Althea, Amara, Amina, Anika, Ayana, Ayo, Bahati, Binta, Camille, Chaka, Chantelle, Chimamanda, Danika, Ebony, Efia, Fatima, Folasade, Gia, Halima, Imani, Jada, Janelle, Jazlyn, Kadija, Kamilah, Kehinde, Kenya, Keturah, Khadijah, Kiana, Kioni, Kizzy, Laila, Lashonda, Latasha, Latoya, Leilani, Lela, Leticia, Lila, Lisha, Makeda, Malika, Mariah, Marjani, Mavis, Maya, Naima, Nakia, Nia, Nzinga, Ola, Oni, Orla, Patience, Qiana, Quanda, Raniyah, Rashida, Rayna, Rhonda, Sabrina, Sade, Safiya, Samira, Sanaa, Shanice, Shaniya, Shantel, Sharifa, Shavonne, Simone, Tamika, Tanisha, Tia, Tiana, Tiffani, Tisa, Tyesha, Uzuri, Valencia, Veda, Yara, Yasmin, Yvette, Zakiya, Zalika, Zara.\n",
      "\n",
      "\n",
      "\n",
      "\n",
      "Saving: Names/First_Names/Hispanic or Latino Women.pkl\n",
      "Adriana, Alejandra, Alma, Amalia, Ana, Andrea, Angelica, Antonia, Araceli, Beatriz, Belen, Blanca, Camila, Carla, Carmen, Carolina, Catalina, Cecilia, Clara, Claudia, Conchita, Consuelo, Cristina, Daniela, Delfina, Dolores, Elena, Elisa, Emilia, Esperanza, Estela, Estrella, Eva, Fabiola, Fatima, Fernanda, Flora, Gabriela, Gloria, Graciela, Guadalupe, Ines, Ingrid, Irene, Isabel, Isabella, Itzel, Ivonne, Jacinta, Jazmin, Jimena, Josefina, Juana, Julia, Julieta, Karina, Laura, Leticia, Liliana, Lorena, Lucia, Lupita, Luz, Magdalena, Manuela, Marcela, Margarita, Maria, Mariana, Marisol, Marta, Mercedes, Micaela, Miriam, Monica, Natalia, Norma, Olivia, Paloma, Patricia, Paulina, Paz, Pilar, Raquel, Regina, Renata, Rosa, Rosalinda, Rosario, Ruby, Ruth, Salma, Sandra, Sara, Silvia, Sofia, Soledad, Susana, Teresa, Valentina, Veronica, Victoria, Ximena, Yolanda.\n",
      "\n",
      "\n",
      "\n",
      "\n",
      "Saving: Names/First_Names/Asian Men.pkl\n",
      "Akio, Bao, Chang, Dai, Eiji, Feng, Goro, Hiro, Isamu, Joon, Kazuo, Lei, Minh, Nao, Osamu, Peng, Qiang, Ryo, Shiro, Tao, Ujin, Vien, Wei, Xian, Yori, Zhi, Akihiko, Baek, Chen, Dae, Eun, Fai, Geng, Han, Ito, Junichi, Katsu, Lee, Ming, Nori, Park, Quan, Ryu, Shun, Tae, Ume, Vinh, Wu, Xiaobo, Yoon, Zhen, An, Bong, Chao, Daisuke, Eiji, Feng, Guan, Hideo, Ikuo, Jia, Kenta, Liang, Ming-hua, Naoaki, Oki, Ping, Qiu, Riki, Sheng, Tatsuo, Uy, Vong, Wai, Xing, Yoji, Zan, Atsushi, Byung, Cheng, Daisuke, Eiichi, Fumio, Goro, Hae, Iwao, Jiro, Katsuo, Lian, Moto, Naozumi, Osamu, Pyong, Qian, Rong, Shigeo, Tadashi, Uichi, Vann, Wei, Xiang, Yosuke, Zhihao.\n",
      "\n",
      "\n",
      "\n",
      "\n",
      "Saving: Names/First_Names/American Indian or Alaska Native Women.pkl\n",
      "Adahy, Aiyana, Alawa, Aleshanee, Anevay, Aponi, Aquene, Ashkii, Atsila, Ayita, Bena, Chenoa, Chilali, Chimalis, Chochmingwu, Cholena, Chosovi, Citlali, Dakotah, Delsin, Denali, Desna, Dyani, Elu, Enola, Galilahi, Halona, Hialeah, Hinto, Honovi, Huyana, Istas, Kachina, Kaliska, Kanti, Kasa, Kateri, Kawena, Kele, Kiona, Koko, Kotori, Kwanita, Leotie, Lomasi, Lulu, Macha, Mahala, Makawee, Malila, Mika, Miliani, Misu, Nalanieha, Nita, Nizhoni, Odina, Ogin, Onawa, Osyka, Pahana, Powaqa, Quanah, Quetzalxochitl, Salali, Saniyah, Sequoia, Shadi, Shilah, Shima, Sihu, Sitala, Tahki, Takoda, Tala, Tama, Tansy, Tayanita, Tiva, Topanga, Tsianina, Tula, Uzumati, Waki, Wyanet, Yara, Yoki, Yuma.\n",
      "\n",
      "\n",
      "\n",
      "\n",
      "Saving: Names/First_Names/Asian Women.pkl\n",
      "Aiko, Akane, Akemi, Akiko, Ami, Asami, Ayaka, Ayako, Ayame, Ayumi, Chie, Chihiro, Chika, Emi, Emiko, Eri, Erika, Fumiko, Hana, Hanako, Haru, Haruka, Haruko, Hikari, Hina, Hiroko, Hitomi, Honoka, Hotaru, Junko, Kaede, Kana, Kanako, Kaori, Katsuko, Kazuko, Keiko, Kiko, Kimiko, Kiyoko, Koharu, Kumi, Kumiko, Kyoko, Maki, Makiko, Mami, Mana, Manami, Mari, Mariko, Masako, Mayu, Mayumi, Megumi, Michiko, Midori, Mieko, Minako, Mineko, Mio, Misaki, Misato, Miu, Miyako, Miyu, Miyuki, Moe, Momoka, Nana, Nanami, Naoko, Narumi, Natsumi, Natsuko, Natsuki, Natsuko, Natsuna, Natsuyo, Nene, Noriko, Reiko, Rie, Riko, Rin, Rina, Risa, Ritsuko, Rumi, Rumiko, Runa, Sachiko, Saeko, Saki, Sakura, Satomi, Sayaka, Sayuri, Setsuko, Shiori, Shizuka, Sumiko, Suzu, Suzuka, Takako, Tamaki, Tomiko, Tomomi, Tsukiko, Yoko, Yori, Yoriko, Yui, Yuka, Yukari, Yuki, Yukiko, Yumeko, Yumi, Yuri, Yuriko.\n",
      "\n",
      "\n",
      "\n",
      "\n",
      "Saving: Names/First_Names/American Indian or Alaska Native Men.pkl\n",
      "Ahanu, Aiyana, Akecheta, Alawa, Anoki, Aponi, Aranck, Ata'halne, Atsidi, Ayawamat, Bemidii, Bidziil, Chayton, Chochmo, Chosovi, Chunta, Ciqala, Cochise, Delsin, Denali, Desna, Dohosan, Dyami, Enapay, Enkoodabao, Etu, Galilahi, Gomda, Hakan, Haloke, Hinto, Honani, Hototo, Huitzilihuitl, Huyana, Ichtaca, Inali, Iniko, Istu, Iye, Jolon, Kajika, Kangee, Kanti, Kasa, Keme, Kitchi, Koa, Koko, Kotori, Kuckunniwi, Kuri, Kutche, Lomasi, Machk, Mahkah, Makya, Maska, Matoskah, Mekasi, Mika, Mikasi, Misu, Moki, Mosi, Nantan, Nodin, Nokomis, Odakota, Ohanko, Ohiyesa, Okhmhaka, Onacona, Osceola, Pachu'a, Pahana, Paitalyi, Pauwau, Paytah, Powaqa, Qaletaqa, Qochata, Quanah, Quyana, Sahale, Sani, Sefu, Shilah, Shilahdine, Shima, Shunkaha, Siale, Sihu, Sikyatavo, Sitka, Soko, Takoda, Taregan, Tashunke, Tayanita, Tikaani, Tiva, Tocho, Tohopka, Tsiishch'ili, Tuketu, Tukulti, Tukumsh, Tupa, Tupi, Uzumati, Wahanassatta, Waki, Wamblee, Wanahton, Wapi, Wicasa, Wohali.\n",
      "\n",
      "\n",
      "\n",
      "\n",
      "Saving: Names/First_Names/White Women.pkl\n",
      "Abigail, Addison, Alexandra, Alice, Allison, Alyssa, Amanda, Amber, Amelia, Andrea, Angela, Ann, Anna, Anne, Annie, Ashley, Audrey, Ava, Barbara, Beatrice, Beth, Bethany, Betty, Beverly, Bonnie, Brenda, Brianna, Bridget, Brooke, Caitlin, Camille, Candace, Cara, Caroline, Carolyn, Cassandra, Catherine, Cecilia, Celeste, Charlotte, Chelsea, Cheryl, Chloe, Christine, Claire, Clara, Claudia, Colleen, Connie, Courtney, Crystal, Cynthia, Daisy, Dana, Danielle, Darlene, Dawn, Deanna, Deborah, Debra, Delaney, Denise, Diana, Diane, Donna, Doris, Dorothy, Edith, Elaine, Eleanor, Elizabeth, Ella, Ellen, Emily, Emma, Erica, Erin, Esther, Ethel, Eva, Evelyn, Faith, Felicity, Florence, Frances, Gabrielle, Gail, Genevieve, Georgia, Geraldine, Gertrude, Gina, Gloria, Grace, Gwendolyn, Haley, Hannah, Harriet, Hazel, Heather, Helen, Holly, Hope, Ida, Imogen, Ingrid, Irene, Iris, Isabella, Jacqueline, Jamie, Jane, Janet, Janice, Jasmine, Jean, Jeanette, Jenna, Jennifer, Jessica, Jill, Joan, Joanna, Jocelyn, Jordan, Josephine, Joy, Joyce, Judith, Judy, Julia, Julie, June, Kaitlyn, Karen, Katelyn, Katherine, Kathleen, Kathryn, Katie, Kayla, Kelly, Kelsey, Kendra, Kimberly, Kirsten, Krista, Kristen, Kristin, Kristina, Kristine, Kylie, Lacey, Laura, Lauren, Leah, Leanne, Lee, Leona, Leslie, Lila, Lillian, Lily, Linda, Lindsay, Lisa, Loretta, Lori, Lorraine, Louise, Lucille, Lucy, Lydia, Lynn, Madeline, Madison, Mae, Maggie, Mandy, Marcia, Margaret, Margie, Maria, Mariah, Marian, Marianne, Marie, Marilyn, Marina, Marjorie, Marlene, Marsha, Martha, Mary, Matilda, Maureen, Maxine, Megan, Melanie, Melissa, Meredith, Mia, Michaela, Michele, Michelle, Mildred, Millicent, Miranda, Miriam, Molly, Mona, Monica, Morgan, Myrtle, Nancy, Naomi, Natalie, Natasha, Nellie, Nicole, Nina, Norma, Olivia, Opal, Paige, Pamela, Pat, Patricia, Patsy, Pauline, Pearl, Peggy, Penelope, Penny, Phoebe, Polly, Priscilla, Rachel, Ramona, Rebecca, Regina, Renee, Rhonda, Rita, Roberta, Robin, Rochelle, Rose, Rosemary, Ruby, Ruth, Sabrina, Sadie, Sally, Samantha, Sandra, Sara, Sarah, Savannah, Scarlett, Selena, Serena, Shannon, Sharon, Sheila, Shelby, Shirley, Sierra, Simone, Sophia, Sophie, Stacey, Stacy, Stella, Stephanie, Susan, Susanna, Suzanne, Sylvia, Tabitha, Tamara, Tanya, Tara, Tasha, Taylor, Teresa, Terri, Terry, Thelma, Theresa, Tiffany, Tina, Toni, Tracey, Traci, Tracy, Tricia, Trudy, Valerie, Vanessa, Vera, Veronica, Vicki, Victoria, Viola, Violet, Virginia, Vivian, Wanda, Wendy, Whitney, Wilma, Winifred, Yvonne, Zoe.\n",
      "\n",
      "\n",
      "\n",
      "\n"
     ]
    }
   ],
   "source": [
    "with concurrent.futures.ThreadPoolExecutor(max_workers=10) as executor:\n",
    "    # Submit each demographic to the worker pool\n",
    "    executor.map(process_demographic, dems)"
   ]
  },
  {
   "cell_type": "code",
   "execution_count": 16,
   "id": "1ef5d51b",
   "metadata": {},
   "outputs": [],
   "source": [
    "def process_demographic_last_name(d):\n",
    "    name_gen_role = GPT.open_file(\"Prompts/NameGen/name_gen_role.txt\")\n",
    "    prompt = GPT.open_file(\"Prompts/NameGen/last_names.txt\").replace('<<DEMOGRAPHIC>>', d)\n",
    "    names, usage = GPT.chat_gpt(prompt, engine='gpt-4', temp=0.1, role=name_gen_role)\n",
    "    name_list = names.split(',')\n",
    "    parent_path = \"Names/Last_Names/\"\n",
    "    create_directory_if_not_exists(parent_path)\n",
    "    file_path = parent_path + f\"{d}.pkl\"\n",
    "    \n",
    "    print(\"Saving:\", file_path)\n",
    "    print(names +'\\n\\n\\n\\n')\n",
    "    \n",
    "    # Open a file in write binary mode\n",
    "    with open(file_path, \"wb\") as file:\n",
    "        # Use pickle to dump the list object into the file\n",
    "        pickle.dump(name_list, file)"
   ]
  },
  {
   "cell_type": "code",
   "execution_count": 17,
   "id": "517058e4",
   "metadata": {},
   "outputs": [],
   "source": [
    "eths = [\"American Indian or Alaska Native\", \"Black or African American\"]"
   ]
  },
  {
   "cell_type": "code",
   "execution_count": 18,
   "id": "6dcda910",
   "metadata": {},
   "outputs": [
    {
     "name": "stdout",
     "output_type": "stream",
     "text": [
      "Saving: Names/Last_Names/Black or African American.pkl\n",
      "Washington, Jefferson, Williams, Jackson, Thomas, Johnson, Brown, Smith, Jones, Davis, Wilson, Harris, Robinson, Lewis, Walker, Young, Allen, King, Wright, Scott, White, Adams, Green, Baker, Hall, Turner, Nelson, Hill, Campbell, Mitchell, Carter, Roberts, Taylor, Moore, Martin, Anderson, Thompson, Edwards, Lee, Perry, Clark, Evans, Collins, Reed, Stewart, Bailey, Bell, Murphy, Cook, Gray, Jenkins, Simmons, Coleman, Ford, Richardson, Cox, Howard, Ward, Brooks, James, Watson, Henderson, Sanders, Alexander, Austin, Bryant, Dixon, Grant, Hughes, Marshall, Powell, Ross, Patterson, Perry, Butler, Simmons, Foster, Gonzales, Bryant, Ellis, Fisher, Griffin, Jordan, Kelley, Kim, Lee, Long, Lopez, Martinez, Miller, Morris, Murphy, Nguyen, Ortiz, Parker, Patel, Perez, Peterson, Phillips, Price, Ramirez, Rivera, Roberts, Robinson, Rodriguez, Rogers, Ross, Russell, Sanchez, Sanders, Scott, Smith, Stewart, Sullivan, Taylor, Thomas, Thompson, Torres, Turner, Walker, Wallace, Ward, Watson, White, Williams, Wilson, Wood, Wright, Young\n",
      "\n",
      "\n",
      "\n",
      "\n",
      "Saving: Names/Last_Names/American Indian or Alaska Native.pkl\n",
      "Bear, White, Running, Buffalo, Wolf, Eagle, Deer, Elk, Fox, Hawk, Horse, Raven, Snake, Sparrow, Thunder, Wind, Yellow, Blue, Red, Black, Gray, Green, Brown, Swift, Tall, Short, Strong, Brave, Wise, Two, Three, Four, Five, Six, Seven, Eight, Nine, Ten, River, Mountain, Valley, Forest, Sky, Cloud, Rain, Snow, Ice, Fire, Earth, Water, Air, Spirit, Moon, Sun, Star, Night, Day, Dawn, Dusk, Spring, Summer, Autumn, Winter, North, South, East, West, Lightning, Storm, Thunderbird, Whale, Dolphin, Otter, Seal, Walrus, Polar, Grizzly, Cougar, Lynx, Bobcat, Coyote, Badger, Raccoon, Squirrel, Rabbit, Mouse, Hummingbird, Owl, Woodpecker, Crow, Heron, Gull, Crane, Swallow, Finch, Wren, Lark, Jay, Magpie, Pigeon\n",
      "\n",
      "\n",
      "\n",
      "\n"
     ]
    }
   ],
   "source": [
    "with concurrent.futures.ThreadPoolExecutor(max_workers=10) as executor:\n",
    "    # Submit each demographic to the worker pool\n",
    "    executor.map(process_demographic_last_name, eths)"
   ]
  },
  {
   "cell_type": "code",
   "execution_count": null,
   "id": "44df4fcb",
   "metadata": {},
   "outputs": [],
   "source": []
  }
 ],
 "metadata": {
  "kernelspec": {
   "display_name": "Python 3 (ipykernel)",
   "language": "python",
   "name": "python3"
  },
  "language_info": {
   "codemirror_mode": {
    "name": "ipython",
    "version": 3
   },
   "file_extension": ".py",
   "mimetype": "text/x-python",
   "name": "python",
   "nbconvert_exporter": "python",
   "pygments_lexer": "ipython3",
   "version": "3.9.16"
  }
 },
 "nbformat": 4,
 "nbformat_minor": 5
}
